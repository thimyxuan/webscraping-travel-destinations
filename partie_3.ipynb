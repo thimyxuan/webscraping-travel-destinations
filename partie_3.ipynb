{
 "cells": [
  {
   "cell_type": "markdown",
   "metadata": {},
   "source": [
    "# PARTIE 3 : Données sur les hôtels"
   ]
  },
  {
   "cell_type": "markdown",
   "metadata": {},
   "source": [
    "## Import librairies"
   ]
  },
  {
   "cell_type": "code",
   "execution_count": 1,
   "metadata": {},
   "outputs": [],
   "source": [
    "import pandas as pd\n",
    "import numpy as np\n",
    "import plotly.express as px\n",
    "import json"
   ]
  },
  {
   "cell_type": "markdown",
   "metadata": {},
   "source": [
    "## Lecture du fichier json"
   ]
  },
  {
   "cell_type": "code",
   "execution_count": 3,
   "metadata": {},
   "outputs": [
    {
     "name": "stdout",
     "output_type": "stream",
     "text": [
      "<class 'list'>\n",
      "<class 'dict'>\n"
     ]
    }
   ],
   "source": [
    "file = open('./src/booking.json')\n",
    "results = json.load(file)\n",
    "print(type(results))\n",
    "print(type(results[0]))"
   ]
  },
  {
   "cell_type": "code",
   "execution_count": 71,
   "metadata": {},
   "outputs": [
    {
     "name": "stdout",
     "output_type": "stream",
     "text": [
      "(698, 8)\n"
     ]
    },
    {
     "data": {
      "text/html": [
       "<div>\n",
       "<style scoped>\n",
       "    .dataframe tbody tr th:only-of-type {\n",
       "        vertical-align: middle;\n",
       "    }\n",
       "\n",
       "    .dataframe tbody tr th {\n",
       "        vertical-align: top;\n",
       "    }\n",
       "\n",
       "    .dataframe thead th {\n",
       "        text-align: right;\n",
       "    }\n",
       "</style>\n",
       "<table border=\"1\" class=\"dataframe\">\n",
       "  <thead>\n",
       "    <tr style=\"text-align: right;\">\n",
       "      <th></th>\n",
       "      <th>city_id</th>\n",
       "      <th>hotel_name</th>\n",
       "      <th>description</th>\n",
       "      <th>score</th>\n",
       "      <th>price</th>\n",
       "      <th>url</th>\n",
       "      <th>lat_lon</th>\n",
       "    </tr>\n",
       "  </thead>\n",
       "  <tbody>\n",
       "    <tr>\n",
       "      <th>0</th>\n",
       "      <td>6</td>\n",
       "      <td>Hotel des Vosges</td>\n",
       "      <td>L'Hotel des Vosges vous accueille dans le XXe ...</td>\n",
       "      <td>8,0</td>\n",
       "      <td>\\n€ 102\\n</td>\n",
       "      <td>https://www.booking.com/hotel/fr/des-vosges-pa...</td>\n",
       "      <td>48.86777797,2.38290846</td>\n",
       "    </tr>\n",
       "    <tr>\n",
       "      <th>1</th>\n",
       "      <td>1</td>\n",
       "      <td>Le Héron</td>\n",
       "      <td>Offrant une vue sur la rue calme, Le Héron est...</td>\n",
       "      <td>8,5</td>\n",
       "      <td>\\n€ 137\\n</td>\n",
       "      <td>https://www.booking.com/hotel/fr/le-heron-huis...</td>\n",
       "      <td>48.61008410,-1.45673760</td>\n",
       "    </tr>\n",
       "    <tr>\n",
       "      <th>2</th>\n",
       "      <td>1</td>\n",
       "      <td>Les Terrasses Poulard</td>\n",
       "      <td>Occupant 2 bâtiments différents au cœur du Mon...</td>\n",
       "      <td>7,4</td>\n",
       "      <td>\\n€ 242\\n</td>\n",
       "      <td>https://www.booking.com/hotel/fr/les-terrasses...</td>\n",
       "      <td>48.63534943,-1.51037872</td>\n",
       "    </tr>\n",
       "    <tr>\n",
       "      <th>3</th>\n",
       "      <td>5</td>\n",
       "      <td>Les Initiés</td>\n",
       "      <td>Installé au cœur du centre historique de Rouen...</td>\n",
       "      <td>7,9</td>\n",
       "      <td>\\n€ 81\\n</td>\n",
       "      <td>https://www.booking.com/hotel/fr/les-inities-r...</td>\n",
       "      <td>49.44197641,1.09243892</td>\n",
       "    </tr>\n",
       "    <tr>\n",
       "      <th>4</th>\n",
       "      <td>6</td>\n",
       "      <td>Ideal Hotel</td>\n",
       "      <td>Situé à Paris, l'Ideal Hotel propose des héber...</td>\n",
       "      <td>5,3</td>\n",
       "      <td>\\n€ 75\\n</td>\n",
       "      <td>https://www.booking.com/hotel/fr/ideal-paris.f...</td>\n",
       "      <td>48.86761040,2.37546130</td>\n",
       "    </tr>\n",
       "  </tbody>\n",
       "</table>\n",
       "</div>"
      ],
      "text/plain": [
       "  city_id             hotel_name  \\\n",
       "0       6       Hotel des Vosges   \n",
       "1       1               Le Héron   \n",
       "2       1  Les Terrasses Poulard   \n",
       "3       5            Les Initiés   \n",
       "4       6            Ideal Hotel   \n",
       "\n",
       "                                         description score      price  \\\n",
       "0  L'Hotel des Vosges vous accueille dans le XXe ...   8,0  \\n€ 102\\n   \n",
       "1  Offrant une vue sur la rue calme, Le Héron est...   8,5  \\n€ 137\\n   \n",
       "2  Occupant 2 bâtiments différents au cœur du Mon...   7,4  \\n€ 242\\n   \n",
       "3  Installé au cœur du centre historique de Rouen...   7,9   \\n€ 81\\n   \n",
       "4  Situé à Paris, l'Ideal Hotel propose des héber...   5,3   \\n€ 75\\n   \n",
       "\n",
       "                                                 url                  lat_lon  \n",
       "0  https://www.booking.com/hotel/fr/des-vosges-pa...   48.86777797,2.38290846  \n",
       "1  https://www.booking.com/hotel/fr/le-heron-huis...  48.61008410,-1.45673760  \n",
       "2  https://www.booking.com/hotel/fr/les-terrasses...  48.63534943,-1.51037872  \n",
       "3  https://www.booking.com/hotel/fr/les-inities-r...   49.44197641,1.09243892  \n",
       "4  https://www.booking.com/hotel/fr/ideal-paris.f...   48.86761040,2.37546130  "
      ]
     },
     "execution_count": 71,
     "metadata": {},
     "output_type": "execute_result"
    }
   ],
   "source": [
    "data = pd.DataFrame(results)\n",
    "print(data.shape)\n",
    "data.head()"
   ]
  },
  {
   "cell_type": "markdown",
   "metadata": {},
   "source": [
    "## Nettoyage des données"
   ]
  },
  {
   "cell_type": "markdown",
   "metadata": {},
   "source": [
    "#### Séparer latitude et longitude en 2 colonnes distinctes"
   ]
  },
  {
   "cell_type": "code",
   "execution_count": 72,
   "metadata": {},
   "outputs": [
    {
     "data": {
      "text/html": [
       "<div>\n",
       "<style scoped>\n",
       "    .dataframe tbody tr th:only-of-type {\n",
       "        vertical-align: middle;\n",
       "    }\n",
       "\n",
       "    .dataframe tbody tr th {\n",
       "        vertical-align: top;\n",
       "    }\n",
       "\n",
       "    .dataframe thead th {\n",
       "        text-align: right;\n",
       "    }\n",
       "</style>\n",
       "<table border=\"1\" class=\"dataframe\">\n",
       "  <thead>\n",
       "    <tr style=\"text-align: right;\">\n",
       "      <th></th>\n",
       "      <th>city_id</th>\n",
       "      <th>hotel_name</th>\n",
       "      <th>description</th>\n",
       "      <th>score</th>\n",
       "      <th>price</th>\n",
       "      <th>url</th>\n",
       "      <th>lat</th>\n",
       "      <th>lon</th>\n",
       "    </tr>\n",
       "  </thead>\n",
       "  <tbody>\n",
       "    <tr>\n",
       "      <th>0</th>\n",
       "      <td>6</td>\n",
       "      <td>Hotel des Vosges</td>\n",
       "      <td>L'Hotel des Vosges vous accueille dans le XXe ...</td>\n",
       "      <td>8,0</td>\n",
       "      <td>\\n€ 102\\n</td>\n",
       "      <td>https://www.booking.com/hotel/fr/des-vosges-pa...</td>\n",
       "      <td>48.86777797</td>\n",
       "      <td>2.38290846</td>\n",
       "    </tr>\n",
       "    <tr>\n",
       "      <th>1</th>\n",
       "      <td>1</td>\n",
       "      <td>Le Héron</td>\n",
       "      <td>Offrant une vue sur la rue calme, Le Héron est...</td>\n",
       "      <td>8,5</td>\n",
       "      <td>\\n€ 137\\n</td>\n",
       "      <td>https://www.booking.com/hotel/fr/le-heron-huis...</td>\n",
       "      <td>48.61008410</td>\n",
       "      <td>-1.45673760</td>\n",
       "    </tr>\n",
       "    <tr>\n",
       "      <th>2</th>\n",
       "      <td>1</td>\n",
       "      <td>Les Terrasses Poulard</td>\n",
       "      <td>Occupant 2 bâtiments différents au cœur du Mon...</td>\n",
       "      <td>7,4</td>\n",
       "      <td>\\n€ 242\\n</td>\n",
       "      <td>https://www.booking.com/hotel/fr/les-terrasses...</td>\n",
       "      <td>48.63534943</td>\n",
       "      <td>-1.51037872</td>\n",
       "    </tr>\n",
       "    <tr>\n",
       "      <th>3</th>\n",
       "      <td>5</td>\n",
       "      <td>Les Initiés</td>\n",
       "      <td>Installé au cœur du centre historique de Rouen...</td>\n",
       "      <td>7,9</td>\n",
       "      <td>\\n€ 81\\n</td>\n",
       "      <td>https://www.booking.com/hotel/fr/les-inities-r...</td>\n",
       "      <td>49.44197641</td>\n",
       "      <td>1.09243892</td>\n",
       "    </tr>\n",
       "    <tr>\n",
       "      <th>4</th>\n",
       "      <td>6</td>\n",
       "      <td>Ideal Hotel</td>\n",
       "      <td>Situé à Paris, l'Ideal Hotel propose des héber...</td>\n",
       "      <td>5,3</td>\n",
       "      <td>\\n€ 75\\n</td>\n",
       "      <td>https://www.booking.com/hotel/fr/ideal-paris.f...</td>\n",
       "      <td>48.86761040</td>\n",
       "      <td>2.37546130</td>\n",
       "    </tr>\n",
       "  </tbody>\n",
       "</table>\n",
       "</div>"
      ],
      "text/plain": [
       "  city_id             hotel_name  \\\n",
       "0       6       Hotel des Vosges   \n",
       "1       1               Le Héron   \n",
       "2       1  Les Terrasses Poulard   \n",
       "3       5            Les Initiés   \n",
       "4       6            Ideal Hotel   \n",
       "\n",
       "                                         description score      price  \\\n",
       "0  L'Hotel des Vosges vous accueille dans le XXe ...   8,0  \\n€ 102\\n   \n",
       "1  Offrant une vue sur la rue calme, Le Héron est...   8,5  \\n€ 137\\n   \n",
       "2  Occupant 2 bâtiments différents au cœur du Mon...   7,4  \\n€ 242\\n   \n",
       "3  Installé au cœur du centre historique de Rouen...   7,9   \\n€ 81\\n   \n",
       "4  Situé à Paris, l'Ideal Hotel propose des héber...   5,3   \\n€ 75\\n   \n",
       "\n",
       "                                                 url          lat          lon  \n",
       "0  https://www.booking.com/hotel/fr/des-vosges-pa...  48.86777797   2.38290846  \n",
       "1  https://www.booking.com/hotel/fr/le-heron-huis...  48.61008410  -1.45673760  \n",
       "2  https://www.booking.com/hotel/fr/les-terrasses...  48.63534943  -1.51037872  \n",
       "3  https://www.booking.com/hotel/fr/les-inities-r...  49.44197641   1.09243892  \n",
       "4  https://www.booking.com/hotel/fr/ideal-paris.f...  48.86761040   2.37546130  "
      ]
     },
     "execution_count": 72,
     "metadata": {},
     "output_type": "execute_result"
    }
   ],
   "source": [
    "data['latlon'] = data['lat_lon'].str.split(',')\n",
    "data2 = pd.DataFrame(data['latlon'].tolist(), columns=['lat', 'lon'], index=data.index)\n",
    "\n",
    "hotels_df = pd.concat([data, data2], axis=1)\n",
    "hotels_df.drop(['lat_lon', 'latlon'], axis=1, inplace=True)\n",
    "hotels_df.head()"
   ]
  },
  {
   "cell_type": "markdown",
   "metadata": {},
   "source": [
    "#### Corriger le champ prix"
   ]
  },
  {
   "cell_type": "code",
   "execution_count": 73,
   "metadata": {},
   "outputs": [],
   "source": [
    "for index, value in enumerate(hotels_df['price']):\n",
    "    hotels_df.iloc[index,4] = value.split()[1]"
   ]
  },
  {
   "cell_type": "markdown",
   "metadata": {},
   "source": [
    "#### Mettre toutes les données numériques au bon format"
   ]
  },
  {
   "cell_type": "code",
   "execution_count": 74,
   "metadata": {},
   "outputs": [],
   "source": [
    "hotels_df['city_id'] = hotels_df['city_id'].astype('int')\n",
    "hotels_df['score'] = hotels_df['score'].str.replace(',','.').astype('float')\n",
    "hotels_df['price'] = hotels_df['price'].astype('int')\n",
    "hotels_df['lat'] = hotels_df['lat'].astype('float')\n",
    "hotels_df['lon'] = hotels_df['lon'].astype('float')"
   ]
  },
  {
   "cell_type": "code",
   "execution_count": 75,
   "metadata": {},
   "outputs": [
    {
     "name": "stdout",
     "output_type": "stream",
     "text": [
      "<class 'pandas.core.frame.DataFrame'>\n",
      "RangeIndex: 698 entries, 0 to 697\n",
      "Data columns (total 8 columns):\n",
      " #   Column       Non-Null Count  Dtype  \n",
      "---  ------       --------------  -----  \n",
      " 0   city_id      698 non-null    int64  \n",
      " 1   hotel_name   698 non-null    object \n",
      " 2   description  698 non-null    object \n",
      " 3   score        689 non-null    float64\n",
      " 4   price        698 non-null    int64  \n",
      " 5   url          698 non-null    object \n",
      " 6   lat          698 non-null    float64\n",
      " 7   lon          698 non-null    float64\n",
      "dtypes: float64(3), int64(2), object(3)\n",
      "memory usage: 43.8+ KB\n"
     ]
    }
   ],
   "source": [
    "hotels_df.info()"
   ]
  },
  {
   "cell_type": "markdown",
   "metadata": {},
   "source": [
    "#### Enregistrement fichier csv"
   ]
  },
  {
   "cell_type": "code",
   "execution_count": 93,
   "metadata": {},
   "outputs": [],
   "source": [
    "hotels_df.to_csv('./src/hotels.csv', index=False)"
   ]
  },
  {
   "cell_type": "code",
   "execution_count": null,
   "metadata": {},
   "outputs": [],
   "source": [
    "hotels_df = pd.read_csv('./src/hotels.csv')"
   ]
  },
  {
   "cell_type": "markdown",
   "metadata": {},
   "source": [
    "## Ajouter les hôtels dans le dataframe villes"
   ]
  },
  {
   "cell_type": "code",
   "execution_count": 77,
   "metadata": {},
   "outputs": [],
   "source": [
    "cities_df = pd.read_csv('./src/top_35_cities_lite.csv')"
   ]
  },
  {
   "cell_type": "code",
   "execution_count": 79,
   "metadata": {},
   "outputs": [
    {
     "data": {
      "text/html": [
       "<div>\n",
       "<style scoped>\n",
       "    .dataframe tbody tr th:only-of-type {\n",
       "        vertical-align: middle;\n",
       "    }\n",
       "\n",
       "    .dataframe tbody tr th {\n",
       "        vertical-align: top;\n",
       "    }\n",
       "\n",
       "    .dataframe thead th {\n",
       "        text-align: right;\n",
       "    }\n",
       "</style>\n",
       "<table border=\"1\" class=\"dataframe\">\n",
       "  <thead>\n",
       "    <tr style=\"text-align: right;\">\n",
       "      <th></th>\n",
       "      <th>city_id</th>\n",
       "      <th>city</th>\n",
       "      <th>lat_city</th>\n",
       "      <th>lon_city</th>\n",
       "      <th>avg_weather</th>\n",
       "      <th>avg_temp</th>\n",
       "      <th>avg_clouds</th>\n",
       "      <th>avg_wind</th>\n",
       "      <th>avg_humidity</th>\n",
       "      <th>avg_rain</th>\n",
       "      <th>avg_pop</th>\n",
       "      <th>hotels</th>\n",
       "    </tr>\n",
       "  </thead>\n",
       "  <tbody>\n",
       "    <tr>\n",
       "      <th>0</th>\n",
       "      <td>1</td>\n",
       "      <td>Mont Saint Michel</td>\n",
       "      <td>48.635954</td>\n",
       "      <td>-1.511460</td>\n",
       "      <td>Rain</td>\n",
       "      <td>5.668</td>\n",
       "      <td>82.6</td>\n",
       "      <td>7.708</td>\n",
       "      <td>87.0</td>\n",
       "      <td>0.446</td>\n",
       "      <td>0.528</td>\n",
       "      <td>[{'city_id': 1, 'hotel_name': 'Le Héron', 'des...</td>\n",
       "    </tr>\n",
       "    <tr>\n",
       "      <th>1</th>\n",
       "      <td>2</td>\n",
       "      <td>St Malo</td>\n",
       "      <td>48.649518</td>\n",
       "      <td>-2.026041</td>\n",
       "      <td>Rain</td>\n",
       "      <td>6.324</td>\n",
       "      <td>84.0</td>\n",
       "      <td>8.852</td>\n",
       "      <td>84.0</td>\n",
       "      <td>0.524</td>\n",
       "      <td>0.546</td>\n",
       "      <td>[{'city_id': 2, 'hotel_name': 'Brit Hotel Le S...</td>\n",
       "    </tr>\n",
       "    <tr>\n",
       "      <th>2</th>\n",
       "      <td>3</td>\n",
       "      <td>Bayeux</td>\n",
       "      <td>49.276462</td>\n",
       "      <td>-0.702474</td>\n",
       "      <td>Rain</td>\n",
       "      <td>5.518</td>\n",
       "      <td>71.2</td>\n",
       "      <td>6.992</td>\n",
       "      <td>88.8</td>\n",
       "      <td>0.832</td>\n",
       "      <td>0.616</td>\n",
       "      <td>[{'city_id': 3, 'hotel_name': 'Mon Saint-Malo ...</td>\n",
       "    </tr>\n",
       "    <tr>\n",
       "      <th>3</th>\n",
       "      <td>4</td>\n",
       "      <td>Le Havre</td>\n",
       "      <td>49.493898</td>\n",
       "      <td>0.107973</td>\n",
       "      <td>Rain</td>\n",
       "      <td>7.252</td>\n",
       "      <td>74.2</td>\n",
       "      <td>9.022</td>\n",
       "      <td>82.0</td>\n",
       "      <td>0.806</td>\n",
       "      <td>0.646</td>\n",
       "      <td>[{'city_id': 4, 'hotel_name': 'Eklo Hotels Le ...</td>\n",
       "    </tr>\n",
       "    <tr>\n",
       "      <th>4</th>\n",
       "      <td>5</td>\n",
       "      <td>Rouen</td>\n",
       "      <td>49.440459</td>\n",
       "      <td>1.093966</td>\n",
       "      <td>Rain</td>\n",
       "      <td>5.518</td>\n",
       "      <td>80.2</td>\n",
       "      <td>6.328</td>\n",
       "      <td>87.6</td>\n",
       "      <td>0.590</td>\n",
       "      <td>0.528</td>\n",
       "      <td>[{'city_id': 5, 'hotel_name': 'Les Initiés', '...</td>\n",
       "    </tr>\n",
       "    <tr>\n",
       "      <th>5</th>\n",
       "      <td>6</td>\n",
       "      <td>Paris</td>\n",
       "      <td>48.858890</td>\n",
       "      <td>2.320041</td>\n",
       "      <td>Rain</td>\n",
       "      <td>6.874</td>\n",
       "      <td>93.8</td>\n",
       "      <td>5.798</td>\n",
       "      <td>77.6</td>\n",
       "      <td>1.268</td>\n",
       "      <td>0.664</td>\n",
       "      <td>[{'city_id': 6, 'hotel_name': 'Hotel des Vosge...</td>\n",
       "    </tr>\n",
       "    <tr>\n",
       "      <th>6</th>\n",
       "      <td>7</td>\n",
       "      <td>Amiens</td>\n",
       "      <td>49.894171</td>\n",
       "      <td>2.295695</td>\n",
       "      <td>Rain</td>\n",
       "      <td>5.940</td>\n",
       "      <td>87.8</td>\n",
       "      <td>6.220</td>\n",
       "      <td>86.8</td>\n",
       "      <td>0.752</td>\n",
       "      <td>0.622</td>\n",
       "      <td>[{'city_id': 7, 'hotel_name': 'La Parenthèse E...</td>\n",
       "    </tr>\n",
       "    <tr>\n",
       "      <th>7</th>\n",
       "      <td>8</td>\n",
       "      <td>Lille</td>\n",
       "      <td>50.636565</td>\n",
       "      <td>3.063528</td>\n",
       "      <td>Rain</td>\n",
       "      <td>5.448</td>\n",
       "      <td>93.8</td>\n",
       "      <td>6.932</td>\n",
       "      <td>83.0</td>\n",
       "      <td>1.536</td>\n",
       "      <td>0.602</td>\n",
       "      <td>[{'city_id': 8, 'hotel_name': 'Le Chat Qui Dor...</td>\n",
       "    </tr>\n",
       "    <tr>\n",
       "      <th>8</th>\n",
       "      <td>9</td>\n",
       "      <td>Strasbourg</td>\n",
       "      <td>48.584614</td>\n",
       "      <td>7.750713</td>\n",
       "      <td>Clouds</td>\n",
       "      <td>5.882</td>\n",
       "      <td>77.4</td>\n",
       "      <td>4.144</td>\n",
       "      <td>80.8</td>\n",
       "      <td>0.478</td>\n",
       "      <td>0.410</td>\n",
       "      <td>[{'city_id': 9, 'hotel_name': 'Hotel Victoria'...</td>\n",
       "    </tr>\n",
       "    <tr>\n",
       "      <th>9</th>\n",
       "      <td>10</td>\n",
       "      <td>Chateau du Haut Koenigsbourg</td>\n",
       "      <td>48.249523</td>\n",
       "      <td>7.345492</td>\n",
       "      <td>Clouds</td>\n",
       "      <td>2.034</td>\n",
       "      <td>79.0</td>\n",
       "      <td>3.320</td>\n",
       "      <td>86.4</td>\n",
       "      <td>0.860</td>\n",
       "      <td>0.508</td>\n",
       "      <td>[{'city_id': 10, 'hotel_name': 'Relais et Chât...</td>\n",
       "    </tr>\n",
       "    <tr>\n",
       "      <th>10</th>\n",
       "      <td>11</td>\n",
       "      <td>Colmar</td>\n",
       "      <td>48.077752</td>\n",
       "      <td>7.357964</td>\n",
       "      <td>Rain</td>\n",
       "      <td>5.362</td>\n",
       "      <td>78.6</td>\n",
       "      <td>3.848</td>\n",
       "      <td>85.0</td>\n",
       "      <td>1.158</td>\n",
       "      <td>0.558</td>\n",
       "      <td>[{'city_id': 11, 'hotel_name': 'Kyriad Colmar ...</td>\n",
       "    </tr>\n",
       "    <tr>\n",
       "      <th>11</th>\n",
       "      <td>12</td>\n",
       "      <td>Eguisheim</td>\n",
       "      <td>48.044797</td>\n",
       "      <td>7.307962</td>\n",
       "      <td>Rain</td>\n",
       "      <td>5.314</td>\n",
       "      <td>79.4</td>\n",
       "      <td>3.676</td>\n",
       "      <td>85.8</td>\n",
       "      <td>1.386</td>\n",
       "      <td>0.526</td>\n",
       "      <td>[{'city_id': 12, 'hotel_name': 'Charmant logem...</td>\n",
       "    </tr>\n",
       "    <tr>\n",
       "      <th>12</th>\n",
       "      <td>13</td>\n",
       "      <td>Besancon</td>\n",
       "      <td>47.238022</td>\n",
       "      <td>6.024362</td>\n",
       "      <td>Rain</td>\n",
       "      <td>5.754</td>\n",
       "      <td>87.2</td>\n",
       "      <td>5.712</td>\n",
       "      <td>83.8</td>\n",
       "      <td>1.618</td>\n",
       "      <td>0.602</td>\n",
       "      <td>[{'city_id': 13, 'hotel_name': 'ATELIER DES RE...</td>\n",
       "    </tr>\n",
       "    <tr>\n",
       "      <th>13</th>\n",
       "      <td>14</td>\n",
       "      <td>Dijon</td>\n",
       "      <td>47.321581</td>\n",
       "      <td>5.041470</td>\n",
       "      <td>Rain</td>\n",
       "      <td>5.084</td>\n",
       "      <td>98.8</td>\n",
       "      <td>7.052</td>\n",
       "      <td>87.6</td>\n",
       "      <td>0.614</td>\n",
       "      <td>0.514</td>\n",
       "      <td>[{'city_id': 14, 'hotel_name': 'Chambre d'hôte...</td>\n",
       "    </tr>\n",
       "    <tr>\n",
       "      <th>14</th>\n",
       "      <td>15</td>\n",
       "      <td>Annecy</td>\n",
       "      <td>45.899235</td>\n",
       "      <td>6.128885</td>\n",
       "      <td>Rain</td>\n",
       "      <td>3.954</td>\n",
       "      <td>93.0</td>\n",
       "      <td>2.506</td>\n",
       "      <td>95.6</td>\n",
       "      <td>2.152</td>\n",
       "      <td>0.768</td>\n",
       "      <td>[{'city_id': 15, 'hotel_name': 'Impérial Palac...</td>\n",
       "    </tr>\n",
       "    <tr>\n",
       "      <th>15</th>\n",
       "      <td>16</td>\n",
       "      <td>Grenoble</td>\n",
       "      <td>45.187560</td>\n",
       "      <td>5.735782</td>\n",
       "      <td>Rain</td>\n",
       "      <td>5.836</td>\n",
       "      <td>84.6</td>\n",
       "      <td>2.262</td>\n",
       "      <td>92.4</td>\n",
       "      <td>0.874</td>\n",
       "      <td>0.734</td>\n",
       "      <td>[{'city_id': 16, 'hotel_name': 'Chambre privée...</td>\n",
       "    </tr>\n",
       "    <tr>\n",
       "      <th>16</th>\n",
       "      <td>17</td>\n",
       "      <td>Lyon</td>\n",
       "      <td>45.757814</td>\n",
       "      <td>4.832011</td>\n",
       "      <td>Rain</td>\n",
       "      <td>6.910</td>\n",
       "      <td>100.0</td>\n",
       "      <td>4.696</td>\n",
       "      <td>73.6</td>\n",
       "      <td>1.664</td>\n",
       "      <td>0.548</td>\n",
       "      <td>[{'city_id': 17, 'hotel_name': 'InterContinent...</td>\n",
       "    </tr>\n",
       "    <tr>\n",
       "      <th>17</th>\n",
       "      <td>18</td>\n",
       "      <td>Gorges du Verdon</td>\n",
       "      <td>43.749656</td>\n",
       "      <td>6.328562</td>\n",
       "      <td>Rain</td>\n",
       "      <td>2.422</td>\n",
       "      <td>70.6</td>\n",
       "      <td>2.128</td>\n",
       "      <td>93.2</td>\n",
       "      <td>0.442</td>\n",
       "      <td>0.442</td>\n",
       "      <td>[{'city_id': 18, 'hotel_name': '\" LE CHABASSOL...</td>\n",
       "    </tr>\n",
       "    <tr>\n",
       "      <th>18</th>\n",
       "      <td>19</td>\n",
       "      <td>Bormes les Mimosas</td>\n",
       "      <td>43.150697</td>\n",
       "      <td>6.341928</td>\n",
       "      <td>Rain</td>\n",
       "      <td>10.280</td>\n",
       "      <td>63.6</td>\n",
       "      <td>5.370</td>\n",
       "      <td>75.8</td>\n",
       "      <td>0.486</td>\n",
       "      <td>0.388</td>\n",
       "      <td>[{'city_id': 19, 'hotel_name': 'L'appart Isa&amp;M...</td>\n",
       "    </tr>\n",
       "    <tr>\n",
       "      <th>19</th>\n",
       "      <td>20</td>\n",
       "      <td>Cassis</td>\n",
       "      <td>43.214036</td>\n",
       "      <td>5.539632</td>\n",
       "      <td>Rain</td>\n",
       "      <td>11.072</td>\n",
       "      <td>64.8</td>\n",
       "      <td>5.528</td>\n",
       "      <td>75.2</td>\n",
       "      <td>0.348</td>\n",
       "      <td>0.320</td>\n",
       "      <td>[{'city_id': 20, 'hotel_name': 'Résidence La R...</td>\n",
       "    </tr>\n",
       "    <tr>\n",
       "      <th>20</th>\n",
       "      <td>21</td>\n",
       "      <td>Marseille</td>\n",
       "      <td>43.296174</td>\n",
       "      <td>5.369953</td>\n",
       "      <td>Clouds</td>\n",
       "      <td>11.240</td>\n",
       "      <td>63.0</td>\n",
       "      <td>5.642</td>\n",
       "      <td>73.2</td>\n",
       "      <td>0.250</td>\n",
       "      <td>0.292</td>\n",
       "      <td>[{'city_id': 21, 'hotel_name': '19', 'descript...</td>\n",
       "    </tr>\n",
       "    <tr>\n",
       "      <th>21</th>\n",
       "      <td>22</td>\n",
       "      <td>Aix en Provence</td>\n",
       "      <td>43.529842</td>\n",
       "      <td>5.447474</td>\n",
       "      <td>Clouds</td>\n",
       "      <td>8.040</td>\n",
       "      <td>64.2</td>\n",
       "      <td>3.224</td>\n",
       "      <td>79.0</td>\n",
       "      <td>0.176</td>\n",
       "      <td>0.332</td>\n",
       "      <td>[{'city_id': 22, 'hotel_name': 'Domaine Gaogai...</td>\n",
       "    </tr>\n",
       "    <tr>\n",
       "      <th>22</th>\n",
       "      <td>23</td>\n",
       "      <td>Avignon</td>\n",
       "      <td>43.949249</td>\n",
       "      <td>4.805901</td>\n",
       "      <td>Clouds</td>\n",
       "      <td>8.430</td>\n",
       "      <td>89.8</td>\n",
       "      <td>4.360</td>\n",
       "      <td>75.8</td>\n",
       "      <td>0.392</td>\n",
       "      <td>0.322</td>\n",
       "      <td>[{'city_id': 23, 'hotel_name': 'Lovely Avignon...</td>\n",
       "    </tr>\n",
       "    <tr>\n",
       "      <th>23</th>\n",
       "      <td>24</td>\n",
       "      <td>Uzes</td>\n",
       "      <td>44.012128</td>\n",
       "      <td>4.419672</td>\n",
       "      <td>Clouds</td>\n",
       "      <td>7.454</td>\n",
       "      <td>94.2</td>\n",
       "      <td>4.620</td>\n",
       "      <td>74.0</td>\n",
       "      <td>0.386</td>\n",
       "      <td>0.316</td>\n",
       "      <td>[{'city_id': 24, 'hotel_name': 'Appart'17-Doma...</td>\n",
       "    </tr>\n",
       "    <tr>\n",
       "      <th>24</th>\n",
       "      <td>25</td>\n",
       "      <td>Nimes</td>\n",
       "      <td>43.837425</td>\n",
       "      <td>4.360069</td>\n",
       "      <td>Clouds</td>\n",
       "      <td>8.450</td>\n",
       "      <td>95.6</td>\n",
       "      <td>5.134</td>\n",
       "      <td>71.0</td>\n",
       "      <td>0.296</td>\n",
       "      <td>0.264</td>\n",
       "      <td>[{'city_id': 25, 'hotel_name': 'Royal Hôtel', ...</td>\n",
       "    </tr>\n",
       "    <tr>\n",
       "      <th>25</th>\n",
       "      <td>26</td>\n",
       "      <td>Aigues Mortes</td>\n",
       "      <td>43.566152</td>\n",
       "      <td>4.191540</td>\n",
       "      <td>Clouds</td>\n",
       "      <td>10.158</td>\n",
       "      <td>91.0</td>\n",
       "      <td>5.956</td>\n",
       "      <td>68.0</td>\n",
       "      <td>0.118</td>\n",
       "      <td>0.194</td>\n",
       "      <td>[{'city_id': 26, 'hotel_name': 'Studio refait ...</td>\n",
       "    </tr>\n",
       "    <tr>\n",
       "      <th>26</th>\n",
       "      <td>27</td>\n",
       "      <td>Saintes Maries de la mer</td>\n",
       "      <td>43.451592</td>\n",
       "      <td>4.427720</td>\n",
       "      <td>Clouds</td>\n",
       "      <td>10.652</td>\n",
       "      <td>81.6</td>\n",
       "      <td>7.020</td>\n",
       "      <td>71.0</td>\n",
       "      <td>0.130</td>\n",
       "      <td>0.194</td>\n",
       "      <td>[{'city_id': 27, 'hotel_name': 'Thalacap Camar...</td>\n",
       "    </tr>\n",
       "    <tr>\n",
       "      <th>27</th>\n",
       "      <td>28</td>\n",
       "      <td>Collioure</td>\n",
       "      <td>42.525050</td>\n",
       "      <td>3.083155</td>\n",
       "      <td>Clouds</td>\n",
       "      <td>8.358</td>\n",
       "      <td>69.8</td>\n",
       "      <td>3.846</td>\n",
       "      <td>77.4</td>\n",
       "      <td>0.242</td>\n",
       "      <td>0.224</td>\n",
       "      <td>[{'city_id': 28, 'hotel_name': '66B - Bel appa...</td>\n",
       "    </tr>\n",
       "    <tr>\n",
       "      <th>28</th>\n",
       "      <td>29</td>\n",
       "      <td>Carcassonne</td>\n",
       "      <td>43.213036</td>\n",
       "      <td>2.349107</td>\n",
       "      <td>Rain</td>\n",
       "      <td>6.870</td>\n",
       "      <td>91.6</td>\n",
       "      <td>6.552</td>\n",
       "      <td>82.4</td>\n",
       "      <td>0.706</td>\n",
       "      <td>0.486</td>\n",
       "      <td>[{'city_id': 29, 'hotel_name': 'B&amp;B-Les Balcon...</td>\n",
       "    </tr>\n",
       "    <tr>\n",
       "      <th>29</th>\n",
       "      <td>30</td>\n",
       "      <td>Ariege</td>\n",
       "      <td>42.992743</td>\n",
       "      <td>1.612497</td>\n",
       "      <td>Rain</td>\n",
       "      <td>5.834</td>\n",
       "      <td>96.6</td>\n",
       "      <td>2.742</td>\n",
       "      <td>86.0</td>\n",
       "      <td>1.088</td>\n",
       "      <td>0.630</td>\n",
       "      <td>[{'city_id': 30, 'hotel_name': 'Les Reflets d'...</td>\n",
       "    </tr>\n",
       "    <tr>\n",
       "      <th>30</th>\n",
       "      <td>31</td>\n",
       "      <td>Toulouse</td>\n",
       "      <td>43.604462</td>\n",
       "      <td>1.444247</td>\n",
       "      <td>Rain</td>\n",
       "      <td>6.434</td>\n",
       "      <td>99.4</td>\n",
       "      <td>5.646</td>\n",
       "      <td>85.2</td>\n",
       "      <td>1.036</td>\n",
       "      <td>0.698</td>\n",
       "      <td>[{'city_id': 31, 'hotel_name': 'Maison Anjali'...</td>\n",
       "    </tr>\n",
       "    <tr>\n",
       "      <th>31</th>\n",
       "      <td>32</td>\n",
       "      <td>Montauban</td>\n",
       "      <td>44.017584</td>\n",
       "      <td>1.354999</td>\n",
       "      <td>Rain</td>\n",
       "      <td>6.368</td>\n",
       "      <td>99.6</td>\n",
       "      <td>5.740</td>\n",
       "      <td>89.4</td>\n",
       "      <td>1.694</td>\n",
       "      <td>0.834</td>\n",
       "      <td>[{'city_id': 32, 'hotel_name': 'Duplex Ivoire ...</td>\n",
       "    </tr>\n",
       "    <tr>\n",
       "      <th>32</th>\n",
       "      <td>33</td>\n",
       "      <td>Biarritz</td>\n",
       "      <td>43.483252</td>\n",
       "      <td>-1.559278</td>\n",
       "      <td>Rain</td>\n",
       "      <td>9.294</td>\n",
       "      <td>99.8</td>\n",
       "      <td>7.972</td>\n",
       "      <td>76.4</td>\n",
       "      <td>2.754</td>\n",
       "      <td>0.828</td>\n",
       "      <td>[{'city_id': 33, 'hotel_name': 'Hôtel PALMITO'...</td>\n",
       "    </tr>\n",
       "    <tr>\n",
       "      <th>33</th>\n",
       "      <td>34</td>\n",
       "      <td>Bayonne</td>\n",
       "      <td>43.494514</td>\n",
       "      <td>-1.473666</td>\n",
       "      <td>Rain</td>\n",
       "      <td>8.984</td>\n",
       "      <td>99.6</td>\n",
       "      <td>6.962</td>\n",
       "      <td>78.0</td>\n",
       "      <td>2.904</td>\n",
       "      <td>0.834</td>\n",
       "      <td>[{'city_id': 34, 'hotel_name': 'hotelF1 Bayonn...</td>\n",
       "    </tr>\n",
       "    <tr>\n",
       "      <th>34</th>\n",
       "      <td>35</td>\n",
       "      <td>La Rochelle</td>\n",
       "      <td>46.159113</td>\n",
       "      <td>-1.152043</td>\n",
       "      <td>Rain</td>\n",
       "      <td>8.214</td>\n",
       "      <td>75.2</td>\n",
       "      <td>10.422</td>\n",
       "      <td>75.6</td>\n",
       "      <td>0.780</td>\n",
       "      <td>0.674</td>\n",
       "      <td>[{'city_id': 35, 'hotel_name': 'Hôtel La Fabri...</td>\n",
       "    </tr>\n",
       "  </tbody>\n",
       "</table>\n",
       "</div>"
      ],
      "text/plain": [
       "    city_id                          city   lat_city  lon_city avg_weather  \\\n",
       "0         1             Mont Saint Michel  48.635954 -1.511460        Rain   \n",
       "1         2                       St Malo  48.649518 -2.026041        Rain   \n",
       "2         3                        Bayeux  49.276462 -0.702474        Rain   \n",
       "3         4                      Le Havre  49.493898  0.107973        Rain   \n",
       "4         5                         Rouen  49.440459  1.093966        Rain   \n",
       "5         6                         Paris  48.858890  2.320041        Rain   \n",
       "6         7                        Amiens  49.894171  2.295695        Rain   \n",
       "7         8                         Lille  50.636565  3.063528        Rain   \n",
       "8         9                    Strasbourg  48.584614  7.750713      Clouds   \n",
       "9        10  Chateau du Haut Koenigsbourg  48.249523  7.345492      Clouds   \n",
       "10       11                        Colmar  48.077752  7.357964        Rain   \n",
       "11       12                     Eguisheim  48.044797  7.307962        Rain   \n",
       "12       13                      Besancon  47.238022  6.024362        Rain   \n",
       "13       14                         Dijon  47.321581  5.041470        Rain   \n",
       "14       15                        Annecy  45.899235  6.128885        Rain   \n",
       "15       16                      Grenoble  45.187560  5.735782        Rain   \n",
       "16       17                          Lyon  45.757814  4.832011        Rain   \n",
       "17       18              Gorges du Verdon  43.749656  6.328562        Rain   \n",
       "18       19            Bormes les Mimosas  43.150697  6.341928        Rain   \n",
       "19       20                        Cassis  43.214036  5.539632        Rain   \n",
       "20       21                     Marseille  43.296174  5.369953      Clouds   \n",
       "21       22               Aix en Provence  43.529842  5.447474      Clouds   \n",
       "22       23                       Avignon  43.949249  4.805901      Clouds   \n",
       "23       24                          Uzes  44.012128  4.419672      Clouds   \n",
       "24       25                         Nimes  43.837425  4.360069      Clouds   \n",
       "25       26                 Aigues Mortes  43.566152  4.191540      Clouds   \n",
       "26       27      Saintes Maries de la mer  43.451592  4.427720      Clouds   \n",
       "27       28                     Collioure  42.525050  3.083155      Clouds   \n",
       "28       29                   Carcassonne  43.213036  2.349107        Rain   \n",
       "29       30                        Ariege  42.992743  1.612497        Rain   \n",
       "30       31                      Toulouse  43.604462  1.444247        Rain   \n",
       "31       32                     Montauban  44.017584  1.354999        Rain   \n",
       "32       33                      Biarritz  43.483252 -1.559278        Rain   \n",
       "33       34                       Bayonne  43.494514 -1.473666        Rain   \n",
       "34       35                   La Rochelle  46.159113 -1.152043        Rain   \n",
       "\n",
       "    avg_temp  avg_clouds  avg_wind  avg_humidity  avg_rain  avg_pop  \\\n",
       "0      5.668        82.6     7.708          87.0     0.446    0.528   \n",
       "1      6.324        84.0     8.852          84.0     0.524    0.546   \n",
       "2      5.518        71.2     6.992          88.8     0.832    0.616   \n",
       "3      7.252        74.2     9.022          82.0     0.806    0.646   \n",
       "4      5.518        80.2     6.328          87.6     0.590    0.528   \n",
       "5      6.874        93.8     5.798          77.6     1.268    0.664   \n",
       "6      5.940        87.8     6.220          86.8     0.752    0.622   \n",
       "7      5.448        93.8     6.932          83.0     1.536    0.602   \n",
       "8      5.882        77.4     4.144          80.8     0.478    0.410   \n",
       "9      2.034        79.0     3.320          86.4     0.860    0.508   \n",
       "10     5.362        78.6     3.848          85.0     1.158    0.558   \n",
       "11     5.314        79.4     3.676          85.8     1.386    0.526   \n",
       "12     5.754        87.2     5.712          83.8     1.618    0.602   \n",
       "13     5.084        98.8     7.052          87.6     0.614    0.514   \n",
       "14     3.954        93.0     2.506          95.6     2.152    0.768   \n",
       "15     5.836        84.6     2.262          92.4     0.874    0.734   \n",
       "16     6.910       100.0     4.696          73.6     1.664    0.548   \n",
       "17     2.422        70.6     2.128          93.2     0.442    0.442   \n",
       "18    10.280        63.6     5.370          75.8     0.486    0.388   \n",
       "19    11.072        64.8     5.528          75.2     0.348    0.320   \n",
       "20    11.240        63.0     5.642          73.2     0.250    0.292   \n",
       "21     8.040        64.2     3.224          79.0     0.176    0.332   \n",
       "22     8.430        89.8     4.360          75.8     0.392    0.322   \n",
       "23     7.454        94.2     4.620          74.0     0.386    0.316   \n",
       "24     8.450        95.6     5.134          71.0     0.296    0.264   \n",
       "25    10.158        91.0     5.956          68.0     0.118    0.194   \n",
       "26    10.652        81.6     7.020          71.0     0.130    0.194   \n",
       "27     8.358        69.8     3.846          77.4     0.242    0.224   \n",
       "28     6.870        91.6     6.552          82.4     0.706    0.486   \n",
       "29     5.834        96.6     2.742          86.0     1.088    0.630   \n",
       "30     6.434        99.4     5.646          85.2     1.036    0.698   \n",
       "31     6.368        99.6     5.740          89.4     1.694    0.834   \n",
       "32     9.294        99.8     7.972          76.4     2.754    0.828   \n",
       "33     8.984        99.6     6.962          78.0     2.904    0.834   \n",
       "34     8.214        75.2    10.422          75.6     0.780    0.674   \n",
       "\n",
       "                                               hotels  \n",
       "0   [{'city_id': 1, 'hotel_name': 'Le Héron', 'des...  \n",
       "1   [{'city_id': 2, 'hotel_name': 'Brit Hotel Le S...  \n",
       "2   [{'city_id': 3, 'hotel_name': 'Mon Saint-Malo ...  \n",
       "3   [{'city_id': 4, 'hotel_name': 'Eklo Hotels Le ...  \n",
       "4   [{'city_id': 5, 'hotel_name': 'Les Initiés', '...  \n",
       "5   [{'city_id': 6, 'hotel_name': 'Hotel des Vosge...  \n",
       "6   [{'city_id': 7, 'hotel_name': 'La Parenthèse E...  \n",
       "7   [{'city_id': 8, 'hotel_name': 'Le Chat Qui Dor...  \n",
       "8   [{'city_id': 9, 'hotel_name': 'Hotel Victoria'...  \n",
       "9   [{'city_id': 10, 'hotel_name': 'Relais et Chât...  \n",
       "10  [{'city_id': 11, 'hotel_name': 'Kyriad Colmar ...  \n",
       "11  [{'city_id': 12, 'hotel_name': 'Charmant logem...  \n",
       "12  [{'city_id': 13, 'hotel_name': 'ATELIER DES RE...  \n",
       "13  [{'city_id': 14, 'hotel_name': 'Chambre d'hôte...  \n",
       "14  [{'city_id': 15, 'hotel_name': 'Impérial Palac...  \n",
       "15  [{'city_id': 16, 'hotel_name': 'Chambre privée...  \n",
       "16  [{'city_id': 17, 'hotel_name': 'InterContinent...  \n",
       "17  [{'city_id': 18, 'hotel_name': '\" LE CHABASSOL...  \n",
       "18  [{'city_id': 19, 'hotel_name': 'L'appart Isa&M...  \n",
       "19  [{'city_id': 20, 'hotel_name': 'Résidence La R...  \n",
       "20  [{'city_id': 21, 'hotel_name': '19', 'descript...  \n",
       "21  [{'city_id': 22, 'hotel_name': 'Domaine Gaogai...  \n",
       "22  [{'city_id': 23, 'hotel_name': 'Lovely Avignon...  \n",
       "23  [{'city_id': 24, 'hotel_name': 'Appart'17-Doma...  \n",
       "24  [{'city_id': 25, 'hotel_name': 'Royal Hôtel', ...  \n",
       "25  [{'city_id': 26, 'hotel_name': 'Studio refait ...  \n",
       "26  [{'city_id': 27, 'hotel_name': 'Thalacap Camar...  \n",
       "27  [{'city_id': 28, 'hotel_name': '66B - Bel appa...  \n",
       "28  [{'city_id': 29, 'hotel_name': 'B&B-Les Balcon...  \n",
       "29  [{'city_id': 30, 'hotel_name': 'Les Reflets d'...  \n",
       "30  [{'city_id': 31, 'hotel_name': 'Maison Anjali'...  \n",
       "31  [{'city_id': 32, 'hotel_name': 'Duplex Ivoire ...  \n",
       "32  [{'city_id': 33, 'hotel_name': 'Hôtel PALMITO'...  \n",
       "33  [{'city_id': 34, 'hotel_name': 'hotelF1 Bayonn...  \n",
       "34  [{'city_id': 35, 'hotel_name': 'Hôtel La Fabri...  "
      ]
     },
     "execution_count": 79,
     "metadata": {},
     "output_type": "execute_result"
    }
   ],
   "source": [
    "cities_df['hotels'] = None\n",
    "for index, row in cities_df.iterrows():\n",
    "    hotels_list = hotels_df[hotels_df['city_id'] == row['city_id']].to_dict(orient='records')\n",
    "    cities_df.at[index, 'hotels'] = hotels_list\n",
    "cities_df"
   ]
  },
  {
   "cell_type": "code",
   "execution_count": 92,
   "metadata": {},
   "outputs": [
    {
     "data": {
      "text/plain": [
       "{'city_id': 1,\n",
       " 'hotel_name': 'Le Héron',\n",
       " 'description': \"Offrant une vue sur la rue calme, Le Héron est un hébergement situé à Huisnes-sur-Mer, à 12 km du Mont-Saint-Michel et à 19 km du Scriptorial d'Avranches, musee des manuscrits. du Mont Saint-Michel. Vous bénéficierez gratuitement d'un parking privé et d'une connexion Wi-Fi. Cet établissement non-fumeurs se trouve à 12 km de l'abbaye du Mont-Saint-Michel.\\n\\nCette maison de vacances comprend 3 chambres ainsi qu'une cuisine équipée d'un lave-vaisselle et d'un four. Il comprend une télévision à écran plat, un coin salon et 2 salles de bains pourvues d'une douche à l'italienne. Les serviettes et le linge de lit sont fournis. L'établissement possède un coin repas extérieur.\\n\\nVous séjournerez à 44 km de la gare de Granville et à 45 km du zoo de Champrepus. L'aéroport de Rennes-Saint-Jacques, le plus proche, est à 92 km.\",\n",
       " 'score': 8.5,\n",
       " 'price': 137,\n",
       " 'url': 'https://www.booking.com/hotel/fr/le-heron-huisnes-sur-mer.fr.html',\n",
       " 'lat': 48.6100841,\n",
       " 'lon': -1.4567376}"
      ]
     },
     "execution_count": 92,
     "metadata": {},
     "output_type": "execute_result"
    }
   ],
   "source": [
    "# Afficher le premier hôtel pour la première ville\n",
    "cities_df.iloc[0,-1][0]"
   ]
  },
  {
   "cell_type": "markdown",
   "metadata": {},
   "source": [
    "## Enregistrement dataframe final"
   ]
  },
  {
   "cell_type": "code",
   "execution_count": 94,
   "metadata": {},
   "outputs": [],
   "source": [
    "cities_df.to_csv('./src/top_35_cities_with_hotels.csv', index=False)"
   ]
  },
  {
   "cell_type": "markdown",
   "metadata": {},
   "source": [
    "## Top 20 hôtels des 5 meilleures destinations"
   ]
  },
  {
   "cell_type": "code",
   "execution_count": 124,
   "metadata": {},
   "outputs": [],
   "source": [
    "best_destinations_df = pd.read_csv('./src/top_5_destinations.csv')"
   ]
  },
  {
   "cell_type": "code",
   "execution_count": 119,
   "metadata": {},
   "outputs": [
    {
     "data": {
      "text/plain": [
       "[6, 10, 16, 18, 30]"
      ]
     },
     "execution_count": 119,
     "metadata": {},
     "output_type": "execute_result"
    }
   ],
   "source": [
    "best_destinations_id = best_destinations['city_id'].values.tolist()\n",
    "best_destinations_id"
   ]
  },
  {
   "cell_type": "code",
   "execution_count": 147,
   "metadata": {},
   "outputs": [
    {
     "data": {
      "text/plain": [
       "(100, 8)"
      ]
     },
     "execution_count": 147,
     "metadata": {},
     "output_type": "execute_result"
    }
   ],
   "source": [
    "best_hotels_df = hotels_df[hotels_df['city_id'].isin(best_destinations_id)]\n",
    "best_hotels_df.reset_index(drop = True, inplace = True)\n",
    "best_hotels_df.shape"
   ]
  },
  {
   "cell_type": "code",
   "execution_count": 149,
   "metadata": {},
   "outputs": [
    {
     "data": {
      "text/plain": [
       "city_id        0\n",
       "hotel_name     0\n",
       "description    0\n",
       "score          1\n",
       "price          0\n",
       "url            0\n",
       "lat            0\n",
       "lon            0\n",
       "dtype: int64"
      ]
     },
     "execution_count": 149,
     "metadata": {},
     "output_type": "execute_result"
    }
   ],
   "source": [
    "best_hotels_df.isna().sum()"
   ]
  },
  {
   "cell_type": "code",
   "execution_count": 150,
   "metadata": {},
   "outputs": [
    {
     "data": {
      "text/html": [
       "<div>\n",
       "<style scoped>\n",
       "    .dataframe tbody tr th:only-of-type {\n",
       "        vertical-align: middle;\n",
       "    }\n",
       "\n",
       "    .dataframe tbody tr th {\n",
       "        vertical-align: top;\n",
       "    }\n",
       "\n",
       "    .dataframe thead th {\n",
       "        text-align: right;\n",
       "    }\n",
       "</style>\n",
       "<table border=\"1\" class=\"dataframe\">\n",
       "  <thead>\n",
       "    <tr style=\"text-align: right;\">\n",
       "      <th></th>\n",
       "      <th>city_id</th>\n",
       "      <th>hotel_name</th>\n",
       "      <th>description</th>\n",
       "      <th>score</th>\n",
       "      <th>price</th>\n",
       "      <th>url</th>\n",
       "      <th>lat</th>\n",
       "      <th>lon</th>\n",
       "    </tr>\n",
       "  </thead>\n",
       "  <tbody>\n",
       "    <tr>\n",
       "      <th>86</th>\n",
       "      <td>30</td>\n",
       "      <td>Maison 5 chambres</td>\n",
       "      <td>La Maison 5 chambres est située à Bélesta, à 1...</td>\n",
       "      <td>NaN</td>\n",
       "      <td>178</td>\n",
       "      <td>https://www.booking.com/hotel/fr/maison-5-cham...</td>\n",
       "      <td>42.898085</td>\n",
       "      <td>1.930289</td>\n",
       "    </tr>\n",
       "  </tbody>\n",
       "</table>\n",
       "</div>"
      ],
      "text/plain": [
       "    city_id         hotel_name  \\\n",
       "86       30  Maison 5 chambres   \n",
       "\n",
       "                                          description  score  price  \\\n",
       "86  La Maison 5 chambres est située à Bélesta, à 1...    NaN    178   \n",
       "\n",
       "                                                  url        lat       lon  \n",
       "86  https://www.booking.com/hotel/fr/maison-5-cham...  42.898085  1.930289  "
      ]
     },
     "execution_count": 150,
     "metadata": {},
     "output_type": "execute_result"
    }
   ],
   "source": [
    "best_hotels_df[best_hotels_df['score'].isna() == True]"
   ]
  },
  {
   "cell_type": "code",
   "execution_count": 153,
   "metadata": {},
   "outputs": [],
   "source": [
    "best_hotels_df.iloc[86,3] = 0"
   ]
  },
  {
   "cell_type": "code",
   "execution_count": 154,
   "metadata": {},
   "outputs": [
    {
     "data": {
      "text/html": [
       "<div>\n",
       "<style scoped>\n",
       "    .dataframe tbody tr th:only-of-type {\n",
       "        vertical-align: middle;\n",
       "    }\n",
       "\n",
       "    .dataframe tbody tr th {\n",
       "        vertical-align: top;\n",
       "    }\n",
       "\n",
       "    .dataframe thead th {\n",
       "        text-align: right;\n",
       "    }\n",
       "</style>\n",
       "<table border=\"1\" class=\"dataframe\">\n",
       "  <thead>\n",
       "    <tr style=\"text-align: right;\">\n",
       "      <th></th>\n",
       "      <th>city_id</th>\n",
       "      <th>hotel_name</th>\n",
       "      <th>description</th>\n",
       "      <th>score</th>\n",
       "      <th>price</th>\n",
       "      <th>url</th>\n",
       "      <th>lat</th>\n",
       "      <th>lon</th>\n",
       "      <th>city</th>\n",
       "      <th>lat_city</th>\n",
       "      <th>lon_city</th>\n",
       "      <th>avg_weather</th>\n",
       "      <th>avg_temp</th>\n",
       "      <th>avg_clouds</th>\n",
       "      <th>avg_wind</th>\n",
       "      <th>avg_humidity</th>\n",
       "      <th>avg_rain</th>\n",
       "      <th>avg_pop</th>\n",
       "    </tr>\n",
       "  </thead>\n",
       "  <tbody>\n",
       "    <tr>\n",
       "      <th>0</th>\n",
       "      <td>6</td>\n",
       "      <td>Hotel des Vosges</td>\n",
       "      <td>L'Hotel des Vosges vous accueille dans le XXe ...</td>\n",
       "      <td>8.0</td>\n",
       "      <td>102</td>\n",
       "      <td>https://www.booking.com/hotel/fr/des-vosges-pa...</td>\n",
       "      <td>48.867778</td>\n",
       "      <td>2.382908</td>\n",
       "      <td>Paris</td>\n",
       "      <td>48.858890</td>\n",
       "      <td>2.320041</td>\n",
       "      <td>Rain</td>\n",
       "      <td>6.874</td>\n",
       "      <td>93.8</td>\n",
       "      <td>5.798</td>\n",
       "      <td>77.6</td>\n",
       "      <td>1.268</td>\n",
       "      <td>0.664</td>\n",
       "    </tr>\n",
       "    <tr>\n",
       "      <th>1</th>\n",
       "      <td>6</td>\n",
       "      <td>Ideal Hotel</td>\n",
       "      <td>Situé à Paris, l'Ideal Hotel propose des héber...</td>\n",
       "      <td>5.3</td>\n",
       "      <td>75</td>\n",
       "      <td>https://www.booking.com/hotel/fr/ideal-paris.f...</td>\n",
       "      <td>48.867610</td>\n",
       "      <td>2.375461</td>\n",
       "      <td>Paris</td>\n",
       "      <td>48.858890</td>\n",
       "      <td>2.320041</td>\n",
       "      <td>Rain</td>\n",
       "      <td>6.874</td>\n",
       "      <td>93.8</td>\n",
       "      <td>5.798</td>\n",
       "      <td>77.6</td>\n",
       "      <td>1.268</td>\n",
       "      <td>0.664</td>\n",
       "    </tr>\n",
       "    <tr>\n",
       "      <th>2</th>\n",
       "      <td>6</td>\n",
       "      <td>Printania Porte de Versailles</td>\n",
       "      <td>Situé à 900 mètres du parc des expositions de ...</td>\n",
       "      <td>5.7</td>\n",
       "      <td>87</td>\n",
       "      <td>https://www.booking.com/hotel/fr/printaniasaph...</td>\n",
       "      <td>48.834068</td>\n",
       "      <td>2.295335</td>\n",
       "      <td>Paris</td>\n",
       "      <td>48.858890</td>\n",
       "      <td>2.320041</td>\n",
       "      <td>Rain</td>\n",
       "      <td>6.874</td>\n",
       "      <td>93.8</td>\n",
       "      <td>5.798</td>\n",
       "      <td>77.6</td>\n",
       "      <td>1.268</td>\n",
       "      <td>0.664</td>\n",
       "    </tr>\n",
       "    <tr>\n",
       "      <th>3</th>\n",
       "      <td>6</td>\n",
       "      <td>Résidence de Bourgogne</td>\n",
       "      <td>Dotée d'un bar et offrant une vue sur la ville...</td>\n",
       "      <td>6.7</td>\n",
       "      <td>103</td>\n",
       "      <td>https://www.booking.com/hotel/fr/residence-de-...</td>\n",
       "      <td>48.869827</td>\n",
       "      <td>2.355760</td>\n",
       "      <td>Paris</td>\n",
       "      <td>48.858890</td>\n",
       "      <td>2.320041</td>\n",
       "      <td>Rain</td>\n",
       "      <td>6.874</td>\n",
       "      <td>93.8</td>\n",
       "      <td>5.798</td>\n",
       "      <td>77.6</td>\n",
       "      <td>1.268</td>\n",
       "      <td>0.664</td>\n",
       "    </tr>\n",
       "    <tr>\n",
       "      <th>4</th>\n",
       "      <td>6</td>\n",
       "      <td>Hotel du Pré</td>\n",
       "      <td>Le charmant 3 étoiles Hôtel du Pré, où le géra...</td>\n",
       "      <td>8.3</td>\n",
       "      <td>159</td>\n",
       "      <td>https://www.booking.com/hotel/fr/hoteldupre.fr...</td>\n",
       "      <td>48.877522</td>\n",
       "      <td>2.347065</td>\n",
       "      <td>Paris</td>\n",
       "      <td>48.858890</td>\n",
       "      <td>2.320041</td>\n",
       "      <td>Rain</td>\n",
       "      <td>6.874</td>\n",
       "      <td>93.8</td>\n",
       "      <td>5.798</td>\n",
       "      <td>77.6</td>\n",
       "      <td>1.268</td>\n",
       "      <td>0.664</td>\n",
       "    </tr>\n",
       "    <tr>\n",
       "      <th>...</th>\n",
       "      <td>...</td>\n",
       "      <td>...</td>\n",
       "      <td>...</td>\n",
       "      <td>...</td>\n",
       "      <td>...</td>\n",
       "      <td>...</td>\n",
       "      <td>...</td>\n",
       "      <td>...</td>\n",
       "      <td>...</td>\n",
       "      <td>...</td>\n",
       "      <td>...</td>\n",
       "      <td>...</td>\n",
       "      <td>...</td>\n",
       "      <td>...</td>\n",
       "      <td>...</td>\n",
       "      <td>...</td>\n",
       "      <td>...</td>\n",
       "      <td>...</td>\n",
       "    </tr>\n",
       "    <tr>\n",
       "      <th>95</th>\n",
       "      <td>30</td>\n",
       "      <td>Hôtel Terranostra</td>\n",
       "      <td>Doté d'un restaurant et d'un bar, l'Hotel Terr...</td>\n",
       "      <td>8.5</td>\n",
       "      <td>91</td>\n",
       "      <td>https://www.booking.com/hotel/fr/terranostra.f...</td>\n",
       "      <td>42.847186</td>\n",
       "      <td>1.605603</td>\n",
       "      <td>Ariege</td>\n",
       "      <td>42.992743</td>\n",
       "      <td>1.612497</td>\n",
       "      <td>Rain</td>\n",
       "      <td>5.834</td>\n",
       "      <td>96.6</td>\n",
       "      <td>2.742</td>\n",
       "      <td>86.0</td>\n",
       "      <td>1.088</td>\n",
       "      <td>0.630</td>\n",
       "    </tr>\n",
       "    <tr>\n",
       "      <th>96</th>\n",
       "      <td>30</td>\n",
       "      <td>The Originals Access, Hôtel Foix (P'tit Dej-Ho...</td>\n",
       "      <td>Situé au sein du parc naturel régional des Pyr...</td>\n",
       "      <td>8.0</td>\n",
       "      <td>64</td>\n",
       "      <td>https://www.booking.com/hotel/fr/campanilefoix...</td>\n",
       "      <td>42.992112</td>\n",
       "      <td>1.615832</td>\n",
       "      <td>Ariege</td>\n",
       "      <td>42.992743</td>\n",
       "      <td>1.612497</td>\n",
       "      <td>Rain</td>\n",
       "      <td>5.834</td>\n",
       "      <td>96.6</td>\n",
       "      <td>2.742</td>\n",
       "      <td>86.0</td>\n",
       "      <td>1.088</td>\n",
       "      <td>0.630</td>\n",
       "    </tr>\n",
       "    <tr>\n",
       "      <th>97</th>\n",
       "      <td>30</td>\n",
       "      <td>La Grange - 10 couchages</td>\n",
       "      <td>Situé à Carla-de-Roquefort, à 20 km du château...</td>\n",
       "      <td>9.3</td>\n",
       "      <td>215</td>\n",
       "      <td>https://www.booking.com/hotel/fr/la-grange-car...</td>\n",
       "      <td>42.975199</td>\n",
       "      <td>1.765422</td>\n",
       "      <td>Ariege</td>\n",
       "      <td>42.992743</td>\n",
       "      <td>1.612497</td>\n",
       "      <td>Rain</td>\n",
       "      <td>5.834</td>\n",
       "      <td>96.6</td>\n",
       "      <td>2.742</td>\n",
       "      <td>86.0</td>\n",
       "      <td>1.088</td>\n",
       "      <td>0.630</td>\n",
       "    </tr>\n",
       "    <tr>\n",
       "      <th>98</th>\n",
       "      <td>30</td>\n",
       "      <td>Chalet bois au milieu des Pyrénées</td>\n",
       "      <td>Doté d'une terrasse et d'une réception ouverte...</td>\n",
       "      <td>9.0</td>\n",
       "      <td>130</td>\n",
       "      <td>https://www.booking.com/hotel/fr/chalet-bois-a...</td>\n",
       "      <td>42.589904</td>\n",
       "      <td>1.798368</td>\n",
       "      <td>Ariege</td>\n",
       "      <td>42.992743</td>\n",
       "      <td>1.612497</td>\n",
       "      <td>Rain</td>\n",
       "      <td>5.834</td>\n",
       "      <td>96.6</td>\n",
       "      <td>2.742</td>\n",
       "      <td>86.0</td>\n",
       "      <td>1.088</td>\n",
       "      <td>0.630</td>\n",
       "    </tr>\n",
       "    <tr>\n",
       "      <th>99</th>\n",
       "      <td>30</td>\n",
       "      <td>Demeure de la Carmine, sejour bien-etre d'exce...</td>\n",
       "      <td>Implantée à Mirepoix, en Midi-Pyrénées, la Dem...</td>\n",
       "      <td>9.5</td>\n",
       "      <td>212</td>\n",
       "      <td>https://www.booking.com/hotel/fr/demeure-de-la...</td>\n",
       "      <td>43.087540</td>\n",
       "      <td>1.871355</td>\n",
       "      <td>Ariege</td>\n",
       "      <td>42.992743</td>\n",
       "      <td>1.612497</td>\n",
       "      <td>Rain</td>\n",
       "      <td>5.834</td>\n",
       "      <td>96.6</td>\n",
       "      <td>2.742</td>\n",
       "      <td>86.0</td>\n",
       "      <td>1.088</td>\n",
       "      <td>0.630</td>\n",
       "    </tr>\n",
       "  </tbody>\n",
       "</table>\n",
       "<p>100 rows × 18 columns</p>\n",
       "</div>"
      ],
      "text/plain": [
       "    city_id                                         hotel_name  \\\n",
       "0         6                                   Hotel des Vosges   \n",
       "1         6                                        Ideal Hotel   \n",
       "2         6                      Printania Porte de Versailles   \n",
       "3         6                             Résidence de Bourgogne   \n",
       "4         6                                       Hotel du Pré   \n",
       "..      ...                                                ...   \n",
       "95       30                                  Hôtel Terranostra   \n",
       "96       30  The Originals Access, Hôtel Foix (P'tit Dej-Ho...   \n",
       "97       30                           La Grange - 10 couchages   \n",
       "98       30                 Chalet bois au milieu des Pyrénées   \n",
       "99       30  Demeure de la Carmine, sejour bien-etre d'exce...   \n",
       "\n",
       "                                          description  score  price  \\\n",
       "0   L'Hotel des Vosges vous accueille dans le XXe ...    8.0    102   \n",
       "1   Situé à Paris, l'Ideal Hotel propose des héber...    5.3     75   \n",
       "2   Situé à 900 mètres du parc des expositions de ...    5.7     87   \n",
       "3   Dotée d'un bar et offrant une vue sur la ville...    6.7    103   \n",
       "4   Le charmant 3 étoiles Hôtel du Pré, où le géra...    8.3    159   \n",
       "..                                                ...    ...    ...   \n",
       "95  Doté d'un restaurant et d'un bar, l'Hotel Terr...    8.5     91   \n",
       "96  Situé au sein du parc naturel régional des Pyr...    8.0     64   \n",
       "97  Situé à Carla-de-Roquefort, à 20 km du château...    9.3    215   \n",
       "98  Doté d'une terrasse et d'une réception ouverte...    9.0    130   \n",
       "99  Implantée à Mirepoix, en Midi-Pyrénées, la Dem...    9.5    212   \n",
       "\n",
       "                                                  url        lat       lon  \\\n",
       "0   https://www.booking.com/hotel/fr/des-vosges-pa...  48.867778  2.382908   \n",
       "1   https://www.booking.com/hotel/fr/ideal-paris.f...  48.867610  2.375461   \n",
       "2   https://www.booking.com/hotel/fr/printaniasaph...  48.834068  2.295335   \n",
       "3   https://www.booking.com/hotel/fr/residence-de-...  48.869827  2.355760   \n",
       "4   https://www.booking.com/hotel/fr/hoteldupre.fr...  48.877522  2.347065   \n",
       "..                                                ...        ...       ...   \n",
       "95  https://www.booking.com/hotel/fr/terranostra.f...  42.847186  1.605603   \n",
       "96  https://www.booking.com/hotel/fr/campanilefoix...  42.992112  1.615832   \n",
       "97  https://www.booking.com/hotel/fr/la-grange-car...  42.975199  1.765422   \n",
       "98  https://www.booking.com/hotel/fr/chalet-bois-a...  42.589904  1.798368   \n",
       "99  https://www.booking.com/hotel/fr/demeure-de-la...  43.087540  1.871355   \n",
       "\n",
       "      city   lat_city  lon_city avg_weather  avg_temp  avg_clouds  avg_wind  \\\n",
       "0    Paris  48.858890  2.320041        Rain     6.874        93.8     5.798   \n",
       "1    Paris  48.858890  2.320041        Rain     6.874        93.8     5.798   \n",
       "2    Paris  48.858890  2.320041        Rain     6.874        93.8     5.798   \n",
       "3    Paris  48.858890  2.320041        Rain     6.874        93.8     5.798   \n",
       "4    Paris  48.858890  2.320041        Rain     6.874        93.8     5.798   \n",
       "..     ...        ...       ...         ...       ...         ...       ...   \n",
       "95  Ariege  42.992743  1.612497        Rain     5.834        96.6     2.742   \n",
       "96  Ariege  42.992743  1.612497        Rain     5.834        96.6     2.742   \n",
       "97  Ariege  42.992743  1.612497        Rain     5.834        96.6     2.742   \n",
       "98  Ariege  42.992743  1.612497        Rain     5.834        96.6     2.742   \n",
       "99  Ariege  42.992743  1.612497        Rain     5.834        96.6     2.742   \n",
       "\n",
       "    avg_humidity  avg_rain  avg_pop  \n",
       "0           77.6     1.268    0.664  \n",
       "1           77.6     1.268    0.664  \n",
       "2           77.6     1.268    0.664  \n",
       "3           77.6     1.268    0.664  \n",
       "4           77.6     1.268    0.664  \n",
       "..           ...       ...      ...  \n",
       "95          86.0     1.088    0.630  \n",
       "96          86.0     1.088    0.630  \n",
       "97          86.0     1.088    0.630  \n",
       "98          86.0     1.088    0.630  \n",
       "99          86.0     1.088    0.630  \n",
       "\n",
       "[100 rows x 18 columns]"
      ]
     },
     "execution_count": 154,
     "metadata": {},
     "output_type": "execute_result"
    }
   ],
   "source": [
    "top_hotels_df = pd.merge(best_hotels_df, best_destinations_df, left_on='city_id', right_on='city_id')\n",
    "top_hotels_df"
   ]
  },
  {
   "cell_type": "markdown",
   "metadata": {},
   "source": [
    "## Visualisation sur carte"
   ]
  },
  {
   "cell_type": "code",
   "execution_count": 168,
   "metadata": {},
   "outputs": [
    {
     "data": {
      "application/vnd.plotly.v1+json": {
       "config": {
        "plotlyServerURL": "https://plot.ly"
       },
       "data": [
        {
         "customdata": [
          [
           48.86777797,
           2.38290846,
           8,
           102,
           "Paris",
           6.8740000000000006
          ],
          [
           48.8676104,
           2.3754613,
           5.3,
           75,
           "Paris",
           6.8740000000000006
          ],
          [
           48.83406814,
           2.29533456,
           5.7,
           87,
           "Paris",
           6.8740000000000006
          ],
          [
           48.8698272,
           2.3557602,
           6.7,
           103,
           "Paris",
           6.8740000000000006
          ],
          [
           48.87752224,
           2.34706499,
           8.3,
           159,
           "Paris",
           6.8740000000000006
          ],
          [
           45.19310783,
           5.72956076,
           10,
           52,
           "Grenoble",
           5.836
          ],
          [
           45.1861673,
           5.72199124,
           7.7,
           66,
           "Grenoble",
           5.836
          ],
          [
           45.18410131,
           5.73294818,
           8.8,
           142,
           "Grenoble",
           5.836
          ],
          [
           45.19107826,
           5.71559832,
           7.9,
           99,
           "Grenoble",
           5.836
          ],
          [
           45.186804,
           5.73157,
           8.5,
           138,
           "Grenoble",
           5.836
          ],
          [
           45.19581084,
           5.72544678,
           8.6,
           96,
           "Grenoble",
           5.836
          ],
          [
           45.19051921,
           5.71601942,
           7.8,
           90,
           "Grenoble",
           5.836
          ],
          [
           45.15999038,
           5.73111087,
           7.2,
           77,
           "Grenoble",
           5.836
          ],
          [
           45.17849379,
           5.72029755,
           7.8,
           119,
           "Grenoble",
           5.836
          ],
          [
           45.18928483,
           5.71861982,
           8.6,
           130,
           "Grenoble",
           5.836
          ],
          [
           45.189522,
           5.716226,
           7.9,
           87,
           "Grenoble",
           5.836
          ],
          [
           45.16819994,
           5.71199477,
           7.6,
           71,
           "Grenoble",
           5.836
          ],
          [
           45.1920997,
           5.72396229,
           7.4,
           78,
           "Grenoble",
           5.836
          ],
          [
           45.15883667,
           5.73443547,
           7.5,
           70,
           "Grenoble",
           5.836
          ],
          [
           45.19035711,
           5.72733097,
           8.2,
           121,
           "Grenoble",
           5.836
          ],
          [
           45.192873,
           5.711917,
           7.4,
           45,
           "Grenoble",
           5.836
          ],
          [
           45.1907933,
           5.71669668,
           8.3,
           103,
           "Grenoble",
           5.836
          ],
          [
           45.19056363,
           5.72448447,
           7.5,
           84,
           "Grenoble",
           5.836
          ],
          [
           45.18920402,
           5.72537228,
           7.7,
           100,
           "Grenoble",
           5.836
          ],
          [
           45.186911,
           5.731293,
           8.4,
           123,
           "Grenoble",
           5.836
          ],
          [
           48.13857095,
           7.26551414,
           9.1,
           376,
           "Chateau du Haut Koenigsbourg",
           2.034
          ],
          [
           48.332833,
           7.18845,
           9.2,
           71,
           "Chateau du Haut Koenigsbourg",
           2.034
          ],
          [
           48.261237,
           7.230095,
           8.6,
           111,
           "Chateau du Haut Koenigsbourg",
           2.034
          ],
          [
           48.24405,
           7.177244,
           9.8,
           107,
           "Chateau du Haut Koenigsbourg",
           2.034
          ],
          [
           48.23085948,
           7.30213568,
           8.6,
           144,
           "Chateau du Haut Koenigsbourg",
           2.034
          ],
          [
           48.22489193,
           7.3539548,
           9,
           159,
           "Chateau du Haut Koenigsbourg",
           2.034
          ],
          [
           48.1931197,
           7.3229088,
           9,
           109,
           "Chateau du Haut Koenigsbourg",
           2.034
          ],
          [
           48.18716222,
           7.32538104,
           8.2,
           118,
           "Chateau du Haut Koenigsbourg",
           2.034
          ],
          [
           48.30655512,
           7.41947293,
           7.8,
           135,
           "Chateau du Haut Koenigsbourg",
           2.034
          ],
          [
           48.23164092,
           7.30222034,
           9.1,
           85,
           "Chateau du Haut Koenigsbourg",
           2.034
          ],
          [
           48.2480832,
           7.1885021,
           9.2,
           113,
           "Chateau du Haut Koenigsbourg",
           2.034
          ],
          [
           48.19661034,
           7.31340766,
           8.1,
           116,
           "Chateau du Haut Koenigsbourg",
           2.034
          ],
          [
           48.16602996,
           7.30618447,
           8.1,
           115,
           "Chateau du Haut Koenigsbourg",
           2.034
          ],
          [
           48.27022235,
           7.3996675,
           8.6,
           90,
           "Chateau du Haut Koenigsbourg",
           2.034
          ],
          [
           48.19593809,
           7.31681406,
           8.3,
           102,
           "Chateau du Haut Koenigsbourg",
           2.034
          ],
          [
           48.2567086,
           7.4508171,
           9.5,
           153,
           "Chateau du Haut Koenigsbourg",
           2.034
          ],
          [
           48.15237298,
           7.32169032,
           9.1,
           132,
           "Chateau du Haut Koenigsbourg",
           2.034
          ],
          [
           48.25543163,
           7.45202824,
           8.9,
           80,
           "Chateau du Haut Koenigsbourg",
           2.034
          ],
          [
           48.15064882,
           7.32050344,
           8.8,
           92,
           "Chateau du Haut Koenigsbourg",
           2.034
          ],
          [
           48.16697453,
           7.30060011,
           8.7,
           118,
           "Chateau du Haut Koenigsbourg",
           2.034
          ],
          [
           48.85246613,
           2.3472457,
           7.7,
           182,
           "Paris",
           6.8740000000000006
          ],
          [
           48.89011611,
           2.361008,
           6,
           66,
           "Paris",
           6.8740000000000006
          ],
          [
           48.85148396,
           2.34343462,
           8.4,
           156,
           "Paris",
           6.8740000000000006
          ],
          [
           48.8645069,
           2.3730432,
           7.9,
           95,
           "Paris",
           6.8740000000000006
          ],
          [
           48.82612522,
           2.32446134,
           7.2,
           108,
           "Paris",
           6.8740000000000006
          ],
          [
           48.834942,
           2.410246,
           8.7,
           139,
           "Paris",
           6.8740000000000006
          ],
          [
           48.84940774,
           2.37448085,
           8.2,
           150,
           "Paris",
           6.8740000000000006
          ],
          [
           48.87937662,
           2.35576071,
           7.3,
           96,
           "Paris",
           6.8740000000000006
          ],
          [
           48.82401168,
           2.32749537,
           8.3,
           131,
           "Paris",
           6.8740000000000006
          ],
          [
           48.84754121,
           2.39930158,
           7.4,
           112,
           "Paris",
           6.8740000000000006
          ],
          [
           48.89349841,
           2.32500155,
           7.9,
           84,
           "Paris",
           6.8740000000000006
          ],
          [
           48.8753551,
           2.35799029,
           7.2,
           116,
           "Paris",
           6.8740000000000006
          ],
          [
           48.85015746,
           2.34764367,
           7.9,
           121,
           "Paris",
           6.8740000000000006
          ],
          [
           48.88219576,
           2.31315181,
           8.5,
           349,
           "Paris",
           6.8740000000000006
          ],
          [
           48.900412,
           2.336288,
           7.6,
           129,
           "Paris",
           6.8740000000000006
          ],
          [
           43.79274242,
           6.2324607,
           9.4,
           112,
           "Gorges du Verdon",
           2.422
          ],
          [
           43.84343777,
           6.22167349,
           8.3,
           134,
           "Gorges du Verdon",
           2.422
          ],
          [
           43.84615569,
           6.50986075,
           7.8,
           17,
           "Gorges du Verdon",
           2.422
          ],
          [
           43.75813877,
           5.89472026,
           7.8,
           159,
           "Gorges du Verdon",
           2.422
          ],
          [
           43.80999988,
           6.06917401,
           9.4,
           157,
           "Gorges du Verdon",
           2.422
          ],
          [
           43.8457069,
           6.50452584,
           8.8,
           76,
           "Gorges du Verdon",
           2.422
          ],
          [
           43.777784,
           6.102316,
           8.4,
           57,
           "Gorges du Verdon",
           2.422
          ],
          [
           43.7702997,
           5.90010613,
           7.2,
           115,
           "Gorges du Verdon",
           2.422
          ],
          [
           43.77239232,
           6.20848164,
           8.6,
           116,
           "Gorges du Verdon",
           2.422
          ],
          [
           43.83838463,
           6.21520936,
           9,
           132,
           "Gorges du Verdon",
           2.422
          ],
          [
           43.773656,
           6.208357,
           7.7,
           83,
           "Gorges du Verdon",
           2.422
          ],
          [
           43.8398124,
           6.22183442,
           9.2,
           141,
           "Gorges du Verdon",
           2.422
          ],
          [
           43.85067238,
           6.50822997,
           7.5,
           78,
           "Gorges du Verdon",
           2.422
          ],
          [
           43.77633074,
           6.2425231,
           7.7,
           89,
           "Gorges du Verdon",
           2.422
          ],
          [
           43.83796907,
           6.49042815,
           8.6,
           47,
           "Gorges du Verdon",
           2.422
          ],
          [
           43.760622,
           5.888974,
           8.7,
           119,
           "Gorges du Verdon",
           2.422
          ],
          [
           43.757202,
           5.89661,
           7.4,
           82,
           "Gorges du Verdon",
           2.422
          ],
          [
           43.83828039,
           6.22067034,
           9.1,
           132,
           "Gorges du Verdon",
           2.422
          ],
          [
           43.83862066,
           6.54142499,
           8.9,
           23,
           "Gorges du Verdon",
           2.422
          ],
          [
           43.65436638,
           6.16950452,
           8.6,
           157,
           "Gorges du Verdon",
           2.422
          ],
          [
           42.71449641,
           1.83950722,
           8.2,
           103,
           "Ariege",
           5.8340000000000005
          ],
          [
           42.76020383,
           1.76470846,
           8.2,
           45,
           "Ariege",
           5.8340000000000005
          ],
          [
           42.7219674,
           1.836729,
           9.2,
           76,
           "Ariege",
           5.8340000000000005
          ],
          [
           43.0052395,
           1.61475956,
           8,
           64,
           "Ariege",
           5.8340000000000005
          ],
          [
           42.874712,
           1.21583998,
           8.2,
           67,
           "Ariege",
           5.8340000000000005
          ],
          [
           42.7319257,
           1.83929687,
           8.5,
           86,
           "Ariege",
           5.8340000000000005
          ],
          [
           42.8980846,
           1.930289,
           0,
           178,
           "Ariege",
           5.8340000000000005
          ],
          [
           42.95401186,
           1.62389517,
           8.4,
           80,
           "Ariege",
           5.8340000000000005
          ],
          [
           42.946666,
           1.092673,
           8.1,
           59,
           "Ariege",
           5.8340000000000005
          ],
          [
           42.71456073,
           1.8390888,
           8.2,
           70,
           "Ariege",
           5.8340000000000005
          ],
          [
           42.71983699,
           1.84186692,
           8.3,
           62,
           "Ariege",
           5.8340000000000005
          ],
          [
           42.95091203,
           1.57907546,
           9.4,
           81,
           "Ariege",
           5.8340000000000005
          ],
          [
           43.04043425,
           1.02921356,
           8.9,
           142,
           "Ariege",
           5.8340000000000005
          ],
          [
           42.867575,
           1.6029912,
           9.1,
           140,
           "Ariege",
           5.8340000000000005
          ],
          [
           43.003051,
           1.13713,
           7.7,
           56,
           "Ariege",
           5.8340000000000005
          ],
          [
           42.84718593,
           1.6056028,
           8.5,
           91,
           "Ariege",
           5.8340000000000005
          ],
          [
           42.9921119,
           1.61583245,
           8,
           64,
           "Ariege",
           5.8340000000000005
          ],
          [
           42.9751989,
           1.7654221,
           9.3,
           215,
           "Ariege",
           5.8340000000000005
          ],
          [
           42.58990385,
           1.79836833,
           9,
           130,
           "Ariege",
           5.8340000000000005
          ],
          [
           43.08754039,
           1.87135531,
           9.5,
           212,
           "Ariege",
           5.8340000000000005
          ]
         ],
         "hovertemplate": "<b>%{hovertext}</b><br><br>score=%{customdata[2]:.1f}<br>price=%{customdata[3]}<br>city=%{customdata[4]}<br>avg_temp=%{marker.color:.0f}<extra></extra>",
         "hovertext": [
          "Hotel des Vosges",
          "Ideal Hotel",
          "Printania Porte de Versailles",
          "Résidence de Bourgogne",
          "Hotel du Pré",
          "Chambre privée en hyper-centre de Grenoble",
          "Studio plein centre avec garage et gardien",
          "Park Hôtel Grenoble - MGallery",
          "Hôtel Terminus",
          "RockyPop Grenoble Appartements",
          "Les Appartements de Grenoble",
          "Brit Hotel Suisse et Bordeaux - Centre Gare",
          "Appartéa Grenoble Alpexpo",
          "Hotel Mercure Grenoble Centre Président",
          "1924 Hôtel",
          "Hotel Lux",
          "Kyriad Grenoble Centre",
          "Résidence Le Patricia",
          "B&B HOTEL Grenoble Centre Alpexpo",
          "Hôtel de l'Europe Grenoble hyper-centre",
          "Hostel Le Hüb Grenoble",
          "Maison Barbillon Grenoble",
          "Residhotel Grenette",
          "Hôtel d’Angleterre Grenoble Hyper-Centre",
          "RockyPop Grenoble Hotel",
          "Relais et Châteaux Le Chambard",
          "LA CLIMONTAINE",
          "L'Oasis des Coccinelles",
          "Villa Grimm",
          "LE CLOS DES SOURCES Hôtel & Spa",
          "Pêche de Vigne & Spa",
          "The One Apartments",
          "Hôtel Le Ménestrel",
          "Hôtel Restaurant Le Verger des Châteaux, The Originals Relais",
          "Hôtel du Haut Koenigsbourg- entre vignes et château",
          "Aux Souvenirs d'Anaëlle gîtes 5 personnes",
          "Hotel SPA Restaurant Au Cheval Blanc",
          "Hôtel Le Riquewihr",
          "Hotel Restaurant Dontenville",
          "Hôtel Au Lion",
          "Appartement des Sorcieres - Witches Apartment",
          "Hotel Le Mandelberg",
          "Chambres d'Hôtes Le Domaine des Remparts",
          "Hôtel Le Mittelwihr",
          "Best Western Hotel & SPA Le Schoenenbourg",
          "Hotel Esmeralda",
          "Hotel De La Poste",
          "Hotel Cluny Square",
          "Hotel Luna Park",
          "Hotel Le Clos d'Alésia",
          "Motel One Paris-Porte Dorée",
          "Hotel Albe Bastille",
          "Hotel des Belges",
          "Virgina",
          "Grand Hôtel du Bel Air",
          "Hôtel Avenir Jonquière",
          "Grand Hôtel De Paris",
          "Hotel Studia",
          "Sonder L'Edmond Parc Monceau",
          "The Originals Boutique, Hôtel Maison Montmartre Paris Les Puces",
          "\" LE CHABASSOLE \" CHAMBRES D'HÔTES - Jacuzzi - Sauna - GORGES DU VERDON",
          "Hôtel La Bonne Auberge",
          "Camping Frédéric Mistral",
          "Villa Borghese, The Originals Relais",
          "Bastide De Mazan",
          "Camping Notre Dame",
          "Camping Arbre de Vie",
          "Club Vacances Bleues Domaine de Château Laval",
          "Auberge des Salles",
          "La Ferme Rose-Hôtel de Charme",
          "Studi-Hôtel Résidence Plein Voile",
          "Hôtel Le Colombier",
          "Les Canyons du Verdon",
          "Gabrielle hôtel",
          "Camping Calme et Nature",
          "Lou Paradou",
          "Terres de France - Résidence Côté Provence",
          "La Clorinde",
          "Camping La Ferme de Castellane",
          "La Bastide du Calalou; BW Signature Collection",
          "Les Reflets d'Ax",
          "Hôtel de la Paix",
          "Orry d'Oriège",
          "Brit Hotel Confort Foix",
          "Hostellerie de La Poste",
          "Les Granges d'Ignaux",
          "Maison 5 chambres",
          "Hôtel Pyrène",
          "la maison du bonheur chez Yann HUMBLET",
          "Résidence Domaine de la Vallée d'Ax - Location à la nuit, linge inclus",
          "Hôtel Restaurant Le Bellevue",
          "la maison d'Anna chambres d hôtes",
          "chalet des Illes SAINT MARTIN IIII",
          "Le Domaine d'Arignac",
          "Terres de France - Domaine du Palais",
          "Hôtel Terranostra",
          "The Originals Access, Hôtel Foix (P'tit Dej-Hotel)",
          "La Grange - 10 couchages",
          "Chalet bois au milieu des Pyrénées",
          "Demeure de la Carmine, sejour bien-etre d'exception, piscine, hammam, champagne"
         ],
         "lat": [
          48.86777797,
          48.8676104,
          48.83406814,
          48.8698272,
          48.87752224,
          45.19310783,
          45.1861673,
          45.18410131,
          45.19107826,
          45.186804,
          45.19581084,
          45.19051921,
          45.15999038,
          45.17849379,
          45.18928483,
          45.189522,
          45.16819994,
          45.1920997,
          45.15883667,
          45.19035711,
          45.192873,
          45.1907933,
          45.19056363,
          45.18920402,
          45.186911,
          48.13857095,
          48.332833,
          48.261237,
          48.24405,
          48.23085948,
          48.22489193,
          48.1931197,
          48.18716222,
          48.30655512,
          48.23164092,
          48.2480832,
          48.19661034,
          48.16602996,
          48.27022235,
          48.19593809,
          48.2567086,
          48.15237298,
          48.25543163,
          48.15064882,
          48.16697453,
          48.85246613,
          48.89011611,
          48.85148396,
          48.8645069,
          48.82612522,
          48.834942,
          48.84940774,
          48.87937662,
          48.82401168,
          48.84754121,
          48.89349841,
          48.8753551,
          48.85015746,
          48.88219576,
          48.900412,
          43.79274242,
          43.84343777,
          43.84615569,
          43.75813877,
          43.80999988,
          43.8457069,
          43.777784,
          43.7702997,
          43.77239232,
          43.83838463,
          43.773656,
          43.8398124,
          43.85067238,
          43.77633074,
          43.83796907,
          43.760622,
          43.757202,
          43.83828039,
          43.83862066,
          43.65436638,
          42.71449641,
          42.76020383,
          42.7219674,
          43.0052395,
          42.874712,
          42.7319257,
          42.8980846,
          42.95401186,
          42.946666,
          42.71456073,
          42.71983699,
          42.95091203,
          43.04043425,
          42.867575,
          43.003051,
          42.84718593,
          42.9921119,
          42.9751989,
          42.58990385,
          43.08754039
         ],
         "legendgroup": "",
         "lon": [
          2.38290846,
          2.3754613,
          2.29533456,
          2.3557602,
          2.34706499,
          5.72956076,
          5.72199124,
          5.73294818,
          5.71559832,
          5.73157,
          5.72544678,
          5.71601942,
          5.73111087,
          5.72029755,
          5.71861982,
          5.716226,
          5.71199477,
          5.72396229,
          5.73443547,
          5.72733097,
          5.711917,
          5.71669668,
          5.72448447,
          5.72537228,
          5.731293,
          7.26551414,
          7.18845,
          7.230095,
          7.177244,
          7.30213568,
          7.3539548,
          7.3229088,
          7.32538104,
          7.41947293,
          7.30222034,
          7.1885021,
          7.31340766,
          7.30618447,
          7.3996675,
          7.31681406,
          7.4508171,
          7.32169032,
          7.45202824,
          7.32050344,
          7.30060011,
          2.3472457,
          2.361008,
          2.34343462,
          2.3730432,
          2.32446134,
          2.410246,
          2.37448085,
          2.35576071,
          2.32749537,
          2.39930158,
          2.32500155,
          2.35799029,
          2.34764367,
          2.31315181,
          2.336288,
          6.2324607,
          6.22167349,
          6.50986075,
          5.89472026,
          6.06917401,
          6.50452584,
          6.102316,
          5.90010613,
          6.20848164,
          6.21520936,
          6.208357,
          6.22183442,
          6.50822997,
          6.2425231,
          6.49042815,
          5.888974,
          5.89661,
          6.22067034,
          6.54142499,
          6.16950452,
          1.83950722,
          1.76470846,
          1.836729,
          1.61475956,
          1.21583998,
          1.83929687,
          1.930289,
          1.62389517,
          1.092673,
          1.8390888,
          1.84186692,
          1.57907546,
          1.02921356,
          1.6029912,
          1.13713,
          1.6056028,
          1.61583245,
          1.7654221,
          1.79836833,
          1.87135531
         ],
         "marker": {
          "color": [
           6.8740000000000006,
           6.8740000000000006,
           6.8740000000000006,
           6.8740000000000006,
           6.8740000000000006,
           5.836,
           5.836,
           5.836,
           5.836,
           5.836,
           5.836,
           5.836,
           5.836,
           5.836,
           5.836,
           5.836,
           5.836,
           5.836,
           5.836,
           5.836,
           5.836,
           5.836,
           5.836,
           5.836,
           5.836,
           2.034,
           2.034,
           2.034,
           2.034,
           2.034,
           2.034,
           2.034,
           2.034,
           2.034,
           2.034,
           2.034,
           2.034,
           2.034,
           2.034,
           2.034,
           2.034,
           2.034,
           2.034,
           2.034,
           2.034,
           6.8740000000000006,
           6.8740000000000006,
           6.8740000000000006,
           6.8740000000000006,
           6.8740000000000006,
           6.8740000000000006,
           6.8740000000000006,
           6.8740000000000006,
           6.8740000000000006,
           6.8740000000000006,
           6.8740000000000006,
           6.8740000000000006,
           6.8740000000000006,
           6.8740000000000006,
           6.8740000000000006,
           2.422,
           2.422,
           2.422,
           2.422,
           2.422,
           2.422,
           2.422,
           2.422,
           2.422,
           2.422,
           2.422,
           2.422,
           2.422,
           2.422,
           2.422,
           2.422,
           2.422,
           2.422,
           2.422,
           2.422,
           5.8340000000000005,
           5.8340000000000005,
           5.8340000000000005,
           5.8340000000000005,
           5.8340000000000005,
           5.8340000000000005,
           5.8340000000000005,
           5.8340000000000005,
           5.8340000000000005,
           5.8340000000000005,
           5.8340000000000005,
           5.8340000000000005,
           5.8340000000000005,
           5.8340000000000005,
           5.8340000000000005,
           5.8340000000000005,
           5.8340000000000005,
           5.8340000000000005,
           5.8340000000000005,
           5.8340000000000005
          ],
          "coloraxis": "coloraxis",
          "size": [
           8,
           5.3,
           5.7,
           6.7,
           8.3,
           10,
           7.7,
           8.8,
           7.9,
           8.5,
           8.6,
           7.8,
           7.2,
           7.8,
           8.6,
           7.9,
           7.6,
           7.4,
           7.5,
           8.2,
           7.4,
           8.3,
           7.5,
           7.7,
           8.4,
           9.1,
           9.2,
           8.6,
           9.8,
           8.6,
           9,
           9,
           8.2,
           7.8,
           9.1,
           9.2,
           8.1,
           8.1,
           8.6,
           8.3,
           9.5,
           9.1,
           8.9,
           8.8,
           8.7,
           7.7,
           6,
           8.4,
           7.9,
           7.2,
           8.7,
           8.2,
           7.3,
           8.3,
           7.4,
           7.9,
           7.2,
           7.9,
           8.5,
           7.6,
           9.4,
           8.3,
           7.8,
           7.8,
           9.4,
           8.8,
           8.4,
           7.2,
           8.6,
           9,
           7.7,
           9.2,
           7.5,
           7.7,
           8.6,
           8.7,
           7.4,
           9.1,
           8.9,
           8.6,
           8.2,
           8.2,
           9.2,
           8,
           8.2,
           8.5,
           0,
           8.4,
           8.1,
           8.2,
           8.3,
           9.4,
           8.9,
           9.1,
           7.7,
           8.5,
           8,
           9.3,
           9,
           9.5
          ],
          "sizemode": "area",
          "sizeref": 0.025
         },
         "mode": "markers",
         "name": "",
         "showlegend": false,
         "subplot": "mapbox",
         "type": "scattermapbox"
        }
       ],
       "layout": {
        "coloraxis": {
         "colorbar": {
          "title": {
           "text": "avg_temp"
          }
         },
         "colorscale": [
          [
           0,
           "rgb(0,0,255)"
          ],
          [
           1,
           "rgb(255,0,0)"
          ]
         ]
        },
        "legend": {
         "itemsizing": "constant",
         "tracegroupgap": 0
        },
        "mapbox": {
         "center": {
          "lat": 46.232192999999995,
          "lon": 2.209666999999996
         },
         "domain": {
          "x": [
           0,
           1
          ],
          "y": [
           0,
           1
          ]
         },
         "style": "carto-positron",
         "zoom": 4
        },
        "margin": {
         "t": 60
        },
        "template": {
         "data": {
          "bar": [
           {
            "error_x": {
             "color": "#2a3f5f"
            },
            "error_y": {
             "color": "#2a3f5f"
            },
            "marker": {
             "line": {
              "color": "#E5ECF6",
              "width": 0.5
             },
             "pattern": {
              "fillmode": "overlay",
              "size": 10,
              "solidity": 0.2
             }
            },
            "type": "bar"
           }
          ],
          "barpolar": [
           {
            "marker": {
             "line": {
              "color": "#E5ECF6",
              "width": 0.5
             },
             "pattern": {
              "fillmode": "overlay",
              "size": 10,
              "solidity": 0.2
             }
            },
            "type": "barpolar"
           }
          ],
          "carpet": [
           {
            "aaxis": {
             "endlinecolor": "#2a3f5f",
             "gridcolor": "white",
             "linecolor": "white",
             "minorgridcolor": "white",
             "startlinecolor": "#2a3f5f"
            },
            "baxis": {
             "endlinecolor": "#2a3f5f",
             "gridcolor": "white",
             "linecolor": "white",
             "minorgridcolor": "white",
             "startlinecolor": "#2a3f5f"
            },
            "type": "carpet"
           }
          ],
          "choropleth": [
           {
            "colorbar": {
             "outlinewidth": 0,
             "ticks": ""
            },
            "type": "choropleth"
           }
          ],
          "contour": [
           {
            "colorbar": {
             "outlinewidth": 0,
             "ticks": ""
            },
            "colorscale": [
             [
              0,
              "#0d0887"
             ],
             [
              0.1111111111111111,
              "#46039f"
             ],
             [
              0.2222222222222222,
              "#7201a8"
             ],
             [
              0.3333333333333333,
              "#9c179e"
             ],
             [
              0.4444444444444444,
              "#bd3786"
             ],
             [
              0.5555555555555556,
              "#d8576b"
             ],
             [
              0.6666666666666666,
              "#ed7953"
             ],
             [
              0.7777777777777778,
              "#fb9f3a"
             ],
             [
              0.8888888888888888,
              "#fdca26"
             ],
             [
              1,
              "#f0f921"
             ]
            ],
            "type": "contour"
           }
          ],
          "contourcarpet": [
           {
            "colorbar": {
             "outlinewidth": 0,
             "ticks": ""
            },
            "type": "contourcarpet"
           }
          ],
          "heatmap": [
           {
            "colorbar": {
             "outlinewidth": 0,
             "ticks": ""
            },
            "colorscale": [
             [
              0,
              "#0d0887"
             ],
             [
              0.1111111111111111,
              "#46039f"
             ],
             [
              0.2222222222222222,
              "#7201a8"
             ],
             [
              0.3333333333333333,
              "#9c179e"
             ],
             [
              0.4444444444444444,
              "#bd3786"
             ],
             [
              0.5555555555555556,
              "#d8576b"
             ],
             [
              0.6666666666666666,
              "#ed7953"
             ],
             [
              0.7777777777777778,
              "#fb9f3a"
             ],
             [
              0.8888888888888888,
              "#fdca26"
             ],
             [
              1,
              "#f0f921"
             ]
            ],
            "type": "heatmap"
           }
          ],
          "heatmapgl": [
           {
            "colorbar": {
             "outlinewidth": 0,
             "ticks": ""
            },
            "colorscale": [
             [
              0,
              "#0d0887"
             ],
             [
              0.1111111111111111,
              "#46039f"
             ],
             [
              0.2222222222222222,
              "#7201a8"
             ],
             [
              0.3333333333333333,
              "#9c179e"
             ],
             [
              0.4444444444444444,
              "#bd3786"
             ],
             [
              0.5555555555555556,
              "#d8576b"
             ],
             [
              0.6666666666666666,
              "#ed7953"
             ],
             [
              0.7777777777777778,
              "#fb9f3a"
             ],
             [
              0.8888888888888888,
              "#fdca26"
             ],
             [
              1,
              "#f0f921"
             ]
            ],
            "type": "heatmapgl"
           }
          ],
          "histogram": [
           {
            "marker": {
             "pattern": {
              "fillmode": "overlay",
              "size": 10,
              "solidity": 0.2
             }
            },
            "type": "histogram"
           }
          ],
          "histogram2d": [
           {
            "colorbar": {
             "outlinewidth": 0,
             "ticks": ""
            },
            "colorscale": [
             [
              0,
              "#0d0887"
             ],
             [
              0.1111111111111111,
              "#46039f"
             ],
             [
              0.2222222222222222,
              "#7201a8"
             ],
             [
              0.3333333333333333,
              "#9c179e"
             ],
             [
              0.4444444444444444,
              "#bd3786"
             ],
             [
              0.5555555555555556,
              "#d8576b"
             ],
             [
              0.6666666666666666,
              "#ed7953"
             ],
             [
              0.7777777777777778,
              "#fb9f3a"
             ],
             [
              0.8888888888888888,
              "#fdca26"
             ],
             [
              1,
              "#f0f921"
             ]
            ],
            "type": "histogram2d"
           }
          ],
          "histogram2dcontour": [
           {
            "colorbar": {
             "outlinewidth": 0,
             "ticks": ""
            },
            "colorscale": [
             [
              0,
              "#0d0887"
             ],
             [
              0.1111111111111111,
              "#46039f"
             ],
             [
              0.2222222222222222,
              "#7201a8"
             ],
             [
              0.3333333333333333,
              "#9c179e"
             ],
             [
              0.4444444444444444,
              "#bd3786"
             ],
             [
              0.5555555555555556,
              "#d8576b"
             ],
             [
              0.6666666666666666,
              "#ed7953"
             ],
             [
              0.7777777777777778,
              "#fb9f3a"
             ],
             [
              0.8888888888888888,
              "#fdca26"
             ],
             [
              1,
              "#f0f921"
             ]
            ],
            "type": "histogram2dcontour"
           }
          ],
          "mesh3d": [
           {
            "colorbar": {
             "outlinewidth": 0,
             "ticks": ""
            },
            "type": "mesh3d"
           }
          ],
          "parcoords": [
           {
            "line": {
             "colorbar": {
              "outlinewidth": 0,
              "ticks": ""
             }
            },
            "type": "parcoords"
           }
          ],
          "pie": [
           {
            "automargin": true,
            "type": "pie"
           }
          ],
          "scatter": [
           {
            "fillpattern": {
             "fillmode": "overlay",
             "size": 10,
             "solidity": 0.2
            },
            "type": "scatter"
           }
          ],
          "scatter3d": [
           {
            "line": {
             "colorbar": {
              "outlinewidth": 0,
              "ticks": ""
             }
            },
            "marker": {
             "colorbar": {
              "outlinewidth": 0,
              "ticks": ""
             }
            },
            "type": "scatter3d"
           }
          ],
          "scattercarpet": [
           {
            "marker": {
             "colorbar": {
              "outlinewidth": 0,
              "ticks": ""
             }
            },
            "type": "scattercarpet"
           }
          ],
          "scattergeo": [
           {
            "marker": {
             "colorbar": {
              "outlinewidth": 0,
              "ticks": ""
             }
            },
            "type": "scattergeo"
           }
          ],
          "scattergl": [
           {
            "marker": {
             "colorbar": {
              "outlinewidth": 0,
              "ticks": ""
             }
            },
            "type": "scattergl"
           }
          ],
          "scattermapbox": [
           {
            "marker": {
             "colorbar": {
              "outlinewidth": 0,
              "ticks": ""
             }
            },
            "type": "scattermapbox"
           }
          ],
          "scatterpolar": [
           {
            "marker": {
             "colorbar": {
              "outlinewidth": 0,
              "ticks": ""
             }
            },
            "type": "scatterpolar"
           }
          ],
          "scatterpolargl": [
           {
            "marker": {
             "colorbar": {
              "outlinewidth": 0,
              "ticks": ""
             }
            },
            "type": "scatterpolargl"
           }
          ],
          "scatterternary": [
           {
            "marker": {
             "colorbar": {
              "outlinewidth": 0,
              "ticks": ""
             }
            },
            "type": "scatterternary"
           }
          ],
          "surface": [
           {
            "colorbar": {
             "outlinewidth": 0,
             "ticks": ""
            },
            "colorscale": [
             [
              0,
              "#0d0887"
             ],
             [
              0.1111111111111111,
              "#46039f"
             ],
             [
              0.2222222222222222,
              "#7201a8"
             ],
             [
              0.3333333333333333,
              "#9c179e"
             ],
             [
              0.4444444444444444,
              "#bd3786"
             ],
             [
              0.5555555555555556,
              "#d8576b"
             ],
             [
              0.6666666666666666,
              "#ed7953"
             ],
             [
              0.7777777777777778,
              "#fb9f3a"
             ],
             [
              0.8888888888888888,
              "#fdca26"
             ],
             [
              1,
              "#f0f921"
             ]
            ],
            "type": "surface"
           }
          ],
          "table": [
           {
            "cells": {
             "fill": {
              "color": "#EBF0F8"
             },
             "line": {
              "color": "white"
             }
            },
            "header": {
             "fill": {
              "color": "#C8D4E3"
             },
             "line": {
              "color": "white"
             }
            },
            "type": "table"
           }
          ]
         },
         "layout": {
          "annotationdefaults": {
           "arrowcolor": "#2a3f5f",
           "arrowhead": 0,
           "arrowwidth": 1
          },
          "autotypenumbers": "strict",
          "coloraxis": {
           "colorbar": {
            "outlinewidth": 0,
            "ticks": ""
           }
          },
          "colorscale": {
           "diverging": [
            [
             0,
             "#8e0152"
            ],
            [
             0.1,
             "#c51b7d"
            ],
            [
             0.2,
             "#de77ae"
            ],
            [
             0.3,
             "#f1b6da"
            ],
            [
             0.4,
             "#fde0ef"
            ],
            [
             0.5,
             "#f7f7f7"
            ],
            [
             0.6,
             "#e6f5d0"
            ],
            [
             0.7,
             "#b8e186"
            ],
            [
             0.8,
             "#7fbc41"
            ],
            [
             0.9,
             "#4d9221"
            ],
            [
             1,
             "#276419"
            ]
           ],
           "sequential": [
            [
             0,
             "#0d0887"
            ],
            [
             0.1111111111111111,
             "#46039f"
            ],
            [
             0.2222222222222222,
             "#7201a8"
            ],
            [
             0.3333333333333333,
             "#9c179e"
            ],
            [
             0.4444444444444444,
             "#bd3786"
            ],
            [
             0.5555555555555556,
             "#d8576b"
            ],
            [
             0.6666666666666666,
             "#ed7953"
            ],
            [
             0.7777777777777778,
             "#fb9f3a"
            ],
            [
             0.8888888888888888,
             "#fdca26"
            ],
            [
             1,
             "#f0f921"
            ]
           ],
           "sequentialminus": [
            [
             0,
             "#0d0887"
            ],
            [
             0.1111111111111111,
             "#46039f"
            ],
            [
             0.2222222222222222,
             "#7201a8"
            ],
            [
             0.3333333333333333,
             "#9c179e"
            ],
            [
             0.4444444444444444,
             "#bd3786"
            ],
            [
             0.5555555555555556,
             "#d8576b"
            ],
            [
             0.6666666666666666,
             "#ed7953"
            ],
            [
             0.7777777777777778,
             "#fb9f3a"
            ],
            [
             0.8888888888888888,
             "#fdca26"
            ],
            [
             1,
             "#f0f921"
            ]
           ]
          },
          "colorway": [
           "#636efa",
           "#EF553B",
           "#00cc96",
           "#ab63fa",
           "#FFA15A",
           "#19d3f3",
           "#FF6692",
           "#B6E880",
           "#FF97FF",
           "#FECB52"
          ],
          "font": {
           "color": "#2a3f5f"
          },
          "geo": {
           "bgcolor": "white",
           "lakecolor": "white",
           "landcolor": "#E5ECF6",
           "showlakes": true,
           "showland": true,
           "subunitcolor": "white"
          },
          "hoverlabel": {
           "align": "left"
          },
          "hovermode": "closest",
          "mapbox": {
           "style": "light"
          },
          "paper_bgcolor": "white",
          "plot_bgcolor": "#E5ECF6",
          "polar": {
           "angularaxis": {
            "gridcolor": "white",
            "linecolor": "white",
            "ticks": ""
           },
           "bgcolor": "#E5ECF6",
           "radialaxis": {
            "gridcolor": "white",
            "linecolor": "white",
            "ticks": ""
           }
          },
          "scene": {
           "xaxis": {
            "backgroundcolor": "#E5ECF6",
            "gridcolor": "white",
            "gridwidth": 2,
            "linecolor": "white",
            "showbackground": true,
            "ticks": "",
            "zerolinecolor": "white"
           },
           "yaxis": {
            "backgroundcolor": "#E5ECF6",
            "gridcolor": "white",
            "gridwidth": 2,
            "linecolor": "white",
            "showbackground": true,
            "ticks": "",
            "zerolinecolor": "white"
           },
           "zaxis": {
            "backgroundcolor": "#E5ECF6",
            "gridcolor": "white",
            "gridwidth": 2,
            "linecolor": "white",
            "showbackground": true,
            "ticks": "",
            "zerolinecolor": "white"
           }
          },
          "shapedefaults": {
           "line": {
            "color": "#2a3f5f"
           }
          },
          "ternary": {
           "aaxis": {
            "gridcolor": "white",
            "linecolor": "white",
            "ticks": ""
           },
           "baxis": {
            "gridcolor": "white",
            "linecolor": "white",
            "ticks": ""
           },
           "bgcolor": "#E5ECF6",
           "caxis": {
            "gridcolor": "white",
            "linecolor": "white",
            "ticks": ""
           }
          },
          "title": {
           "x": 0.05
          },
          "xaxis": {
           "automargin": true,
           "gridcolor": "white",
           "linecolor": "white",
           "ticks": "",
           "title": {
            "standoff": 15
           },
           "zerolinecolor": "white",
           "zerolinewidth": 2
          },
          "yaxis": {
           "automargin": true,
           "gridcolor": "white",
           "linecolor": "white",
           "ticks": "",
           "title": {
            "standoff": 15
           },
           "zerolinecolor": "white",
           "zerolinewidth": 2
          }
         }
        },
        "title": {
         "text": "Top 20 hotels for the 5 best French destinations",
         "x": 0.5
        }
       }
      }
     },
     "metadata": {},
     "output_type": "display_data"
    }
   ],
   "source": [
    "import plotly.express as px\n",
    "\n",
    "fig = px.scatter_mapbox(top_hotels_df, \n",
    "                        lat = \"lat\", lon = \"lon\", \n",
    "                        color = \"avg_temp\",\n",
    "                        size = \"score\",\n",
    "                        hover_name = \"hotel_name\",\n",
    "                        hover_data = {\"lat\": False, \"lon\": False, \"score\": \":.1f\", \"price\": True, \"city\": True, \"avg_temp\": \":.0f\"},\n",
    "                        mapbox_style =\"carto-positron\",\n",
    "                        zoom = 4,\n",
    "                        center = {'lat':46.232192999999995,'lon':2.209666999999996},\n",
    "                        color_continuous_scale = px.colors.sequential.Bluered\n",
    "                        )\n",
    "fig.update_layout(title_text=\"Top 20 hotels for the 5 best French destinations\", title_x=0.5)\n",
    "fig.show()"
   ]
  },
  {
   "cell_type": "code",
   "execution_count": null,
   "metadata": {},
   "outputs": [],
   "source": []
  }
 ],
 "metadata": {
  "kernelspec": {
   "display_name": "webscraping",
   "language": "python",
   "name": "python3"
  },
  "language_info": {
   "codemirror_mode": {
    "name": "ipython",
    "version": 3
   },
   "file_extension": ".py",
   "mimetype": "text/x-python",
   "name": "python",
   "nbconvert_exporter": "python",
   "pygments_lexer": "ipython3",
   "version": "3.1.0"
  }
 },
 "nbformat": 4,
 "nbformat_minor": 2
}
